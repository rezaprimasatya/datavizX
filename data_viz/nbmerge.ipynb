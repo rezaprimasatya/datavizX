{
 "cells": [
  {
   "cell_type": "code",
   "execution_count": 1,
   "metadata": {},
   "outputs": [
    {
     "name": "stdout",
     "output_type": "stream",
     "text": [
      "Collecting nbmerge\n",
      "  Downloading nbmerge-0.0.4.tar.gz (7.6 kB)\n",
      "  Preparing metadata (setup.py): started\n",
      "  Preparing metadata (setup.py): finished with status 'done'\n",
      "Building wheels for collected packages: nbmerge\n",
      "  Building wheel for nbmerge (setup.py): started\n",
      "  Building wheel for nbmerge (setup.py): finished with status 'done'\n",
      "  Created wheel for nbmerge: filename=nbmerge-0.0.4-py2.py3-none-any.whl size=6413 sha256=cc4375a71607af82f7f90cc6aec8953b5212297a1323a2fe54ab8c5090af3e39\n",
      "  Stored in directory: c:\\users\\aligh\\appdata\\local\\pip\\cache\\wheels\\5a\\10\\71\\b0c381be3fb42f4926f3d82cab08399ffb1fcf5da63d7284ab\n",
      "Successfully built nbmerge\n",
      "Installing collected packages: nbmerge\n",
      "Successfully installed nbmerge-0.0.4\n"
     ]
    },
    {
     "name": "stderr",
     "output_type": "stream",
     "text": [
      "WARNING: Ignoring invalid distribution -ip (e:\\dhdk\\datascience-in-dataspell\\datascience-in-dataspell\\venv\\lib\\site-packages)\n",
      "WARNING: Ignoring invalid distribution -ip (e:\\dhdk\\datascience-in-dataspell\\datascience-in-dataspell\\venv\\lib\\site-packages)\n",
      "WARNING: Ignoring invalid distribution -ip (e:\\dhdk\\datascience-in-dataspell\\datascience-in-dataspell\\venv\\lib\\site-packages)\n",
      "WARNING: Ignoring invalid distribution -ip (e:\\dhdk\\datascience-in-dataspell\\datascience-in-dataspell\\venv\\lib\\site-packages)\n",
      "WARNING: Ignoring invalid distribution -ip (e:\\dhdk\\datascience-in-dataspell\\datascience-in-dataspell\\venv\\lib\\site-packages)\n",
      "WARNING: Ignoring invalid distribution -ip (e:\\dhdk\\datascience-in-dataspell\\datascience-in-dataspell\\venv\\lib\\site-packages)\n",
      "WARNING: Ignoring invalid distribution -ip (e:\\dhdk\\datascience-in-dataspell\\datascience-in-dataspell\\venv\\lib\\site-packages)\n"
     ]
    }
   ],
   "source": [
    "!pip install nbmerge"
   ]
  },
  {
   "cell_type": "code",
   "execution_count": null,
   "metadata": {},
   "outputs": [],
   "source": [
    "# !nbmerge part0-networkX.ipynb part1-eda.ipynb part2-eda.ipynb > merged-notbooks.ipynb"
   ]
  },
  {
   "cell_type": "code",
   "execution_count": 2,
   "metadata": {},
   "outputs": [
    {
     "name": "stderr",
     "output_type": "stream",
     "text": [
      "E:\\DHDK\\datascience-in-dataspell\\datascience-in-dataspell\\venv\\lib\\site-packages\\nbformat\\__init__.py:128: MissingIDFieldWarning: Code cell is missing an id field, this will become a hard error in future nbformat versions. You may want to use `normalize()` on your notebooks before validations (available since nbformat 5.1.4). Previous versions of nbformat are fixing this issue transparently, and will stop doing so in the future.\n",
      "  validate(nb)\n"
     ]
    }
   ],
   "source": [
    "!nbmerge documentatio.ipynb merged-notbooks.ipynb > merged-notebooks-00.ipynb"
   ]
  }
 ],
 "metadata": {
  "kernelspec": {
   "display_name": "venv",
   "language": "python",
   "name": "python3"
  },
  "language_info": {
   "codemirror_mode": {
    "name": "ipython",
    "version": 3
   },
   "file_extension": ".py",
   "mimetype": "text/x-python",
   "name": "python",
   "nbconvert_exporter": "python",
   "pygments_lexer": "ipython3",
   "version": "3.10.7"
  },
  "orig_nbformat": 4,
  "vscode": {
   "interpreter": {
    "hash": "9af6fadf15c086639ec7196f669c0f7ec35b091eac4767191bf39c4dc8c4728e"
   }
  }
 },
 "nbformat": 4,
 "nbformat_minor": 2
}
