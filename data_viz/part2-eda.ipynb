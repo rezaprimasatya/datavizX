{
 "cells": [
  {
   "cell_type": "markdown",
   "metadata": {},
   "source": [
    "# Welcome To The Notebook\n"
   ]
  },
  {
   "cell_type": "markdown",
   "metadata": {},
   "source": [
    "## TASK 1\n",
    "Importing modules"
   ]
  },
  {
   "cell_type": "code",
   "execution_count": 1,
   "metadata": {},
   "outputs": [],
   "source": [
    "import pandas as pd \n",
    "import datetime , calendar\n",
    "import folium"
   ]
  },
  {
   "cell_type": "markdown",
   "metadata": {},
   "source": [
    "Importing our data"
   ]
  },
  {
   "cell_type": "code",
   "execution_count": 2,
   "id": "3b058891",
   "metadata": {},
   "outputs": [],
   "source": [
    "#final_df = pd.read_csv('D:\\\\PycharmProjects\\\\infoviz\\\\data_management\\\\draftIntegrated.csv')\n",
    "final_df = pd.read_csv('E:\\\\GitHub\\\\infoviz\\\\data_management\\\\draftIntegrated.csv')\n",
    "#final_df.info()"
   ]
  },
  {
   "attachments": {},
   "cell_type": "markdown",
   "id": "74e2cdaf",
   "metadata": {},
   "source": [
    "## TASK 2\n",
    "### Data Preprocessing \n",
    "Let's extract starting and ending points  <br>\n",
    "\n"
   ]
  },
  {
   "cell_type": "code",
   "execution_count": 3,
   "id": "461e2de4",
   "metadata": {},
   "outputs": [
    {
     "data": {
      "text/plain": "['The Metropolitan Museum of Art',\n 'Collezione H.G. Sperling',\n 'Kleinberger Galleries',\n 'Collezione O. Wertheimer']"
     },
     "execution_count": 3,
     "metadata": {},
     "output_type": "execute_result"
    }
   ],
   "source": [
    "final_df.receivers.iloc[2].split('; ')"
   ]
  },
  {
   "cell_type": "code",
   "execution_count": 4,
   "id": "aae5d11d",
   "metadata": {},
   "outputs": [
    {
     "data": {
      "text/plain": "'The Metropolitan Museum of Art; Collezione G. Donaldson'"
     },
     "execution_count": 4,
     "metadata": {},
     "output_type": "execute_result"
    }
   ],
   "source": [
    "final_df.receivers.iloc[0]"
   ]
  },
  {
   "cell_type": "code",
   "execution_count": 5,
   "id": "064ef387",
   "metadata": {},
   "outputs": [
    {
     "name": "stderr",
     "output_type": "stream",
     "text": [
      "C:\\Users\\aligh\\AppData\\Local\\Temp\\ipykernel_1128\\427246154.py:3: SettingWithCopyWarning: \n",
      "A value is trying to be set on a copy of a slice from a DataFrame\n",
      "\n",
      "See the caveats in the documentation: https://pandas.pydata.org/pandas-docs/stable/user_guide/indexing.html#returning-a-view-versus-a-copy\n",
      "  final_df.receivers.iloc[i]=final_df.receivers.iloc[i].split('; ')\n"
     ]
    }
   ],
   "source": [
    "# df_final.shape[0]\n",
    "for i in range(len(final_df)):\n",
    "    final_df.receivers.iloc[i]=final_df.receivers.iloc[i].split('; ')"
   ]
  },
  {
   "cell_type": "code",
   "execution_count": 6,
   "id": "a4eb7224",
   "metadata": {},
   "outputs": [
    {
     "data": {
      "text/plain": "\"Asta Christie's\""
     },
     "execution_count": 6,
     "metadata": {},
     "output_type": "execute_result"
    }
   ],
   "source": [
    "final_df.receivers.iloc[3][-1]"
   ]
  },
  {
   "cell_type": "code",
   "execution_count": 7,
   "id": "c8bcad6b",
   "metadata": {},
   "outputs": [],
   "source": [
    "#ext_starting_point = lambda list_ : list_[0]\n",
    "#ext_ending_point = lambda list_ : list_[-1]\n",
    "#final_df[\"receivers_mid\"] = final_df.receivers.apply(ext_starting_point)\n",
    "#final_df[\"surrenders_mid\"] = final_df.receivers.apply(ext_ending_point)\n",
    "\n",
    "#final_df.head()"
   ]
  },
  {
   "attachments": {},
   "cell_type": "markdown",
   "id": "780d1a8b",
   "metadata": {},
   "source": [
    "go through each and convert each string to list..."
   ]
  },
  {
   "cell_type": "code",
   "execution_count": 8,
   "id": "26e68488",
   "metadata": {},
   "outputs": [
    {
     "data": {
      "text/plain": "['The Metropolitan Museum of Art',\n 'Collezione H.G. Sperling',\n 'Kleinberger Galleries',\n 'Collezione O. Wertheimer']"
     },
     "execution_count": 8,
     "metadata": {},
     "output_type": "execute_result"
    }
   ],
   "source": [
    "final_df.receivers.iloc[2]"
   ]
  },
  {
   "cell_type": "code",
   "execution_count": 9,
   "id": "1a4be763",
   "metadata": {},
   "outputs": [],
   "source": [
    "#df = pd.DataFrame(columns=['R','S'])"
   ]
  },
  {
   "cell_type": "code",
   "execution_count": 10,
   "id": "8b6508bb",
   "metadata": {},
   "outputs": [],
   "source": [
    "# from itertools import cycle\n",
    "\n",
    "# i=0\n",
    "# rec=[]\n",
    "# sur=[]\n",
    "# while (i < len(final_df)):\n",
    "#     # for j in range(len(final_df.receivers.iloc[i])):\n",
    "#         # print(final_df.receivers.iloc[j])\n",
    "#         for idx, elem in enumerate(final_df.receivers.iloc[i]):\n",
    "#             thiselem = elem\n",
    "#             # df['R'][idx]=thiselem\n",
    "#             rec.append(thiselem)\n",
    "#             nextelem = final_df.receivers.iloc[i][(idx + 1) % len(final_df.receivers.iloc[i])]\n",
    "#             # df['S'][idx]=nextelem\n",
    "#             sur.append(nextelem)\n",
    "#             # if len(final_df.receivers.iloc[j]) == 1:\n",
    "#             #     df['R']=final_df.receivers.iloc[j][k]\n",
    "#             #     df['S']=final_df.receivers.iloc[j][k]\n",
    "#             # else: \n",
    "#             #     h=0\n",
    "#             #     while (h < len(final_df.receivers.iloc[j])-1):\n",
    "#             #         df['R']=final_df.receivers.iloc[j][h]\n",
    "#             #         df['S']=final_df.receivers.iloc[j][h+1]\n",
    "#             #         h+=1\n",
    "                \n",
    "#         i+=1\n"
   ]
  },
  {
   "cell_type": "code",
   "execution_count": 11,
   "id": "d8beedcb",
   "metadata": {},
   "outputs": [],
   "source": [
    "# df['R']=rec\n",
    "# df['S']=sur"
   ]
  },
  {
   "cell_type": "code",
   "execution_count": 12,
   "id": "a2aa6afd",
   "metadata": {},
   "outputs": [],
   "source": [
    "# # df2=df.drop_duplicates(keep='first')\n",
    "# df2 = df.query(\"R != S\")"
   ]
  },
  {
   "cell_type": "code",
   "execution_count": 13,
   "id": "6835610c",
   "metadata": {},
   "outputs": [],
   "source": [
    "# df2=df2.reset_index()"
   ]
  },
  {
   "cell_type": "code",
   "execution_count": 14,
   "id": "da1df0e7",
   "metadata": {},
   "outputs": [],
   "source": [
    "# df2=df2[['R','S']].copy()"
   ]
  },
  {
   "cell_type": "code",
   "execution_count": 15,
   "id": "08126657",
   "metadata": {},
   "outputs": [
    {
     "name": "stderr",
     "output_type": "stream",
     "text": [
      "C:\\Users\\aligh\\AppData\\Local\\Temp\\ipykernel_1128\\4081429668.py:2: SettingWithCopyWarning: \n",
      "A value is trying to be set on a copy of a slice from a DataFrame\n",
      "\n",
      "See the caveats in the documentation: https://pandas.pydata.org/pandas-docs/stable/user_guide/indexing.html#returning-a-view-versus-a-copy\n",
      "  final_df.surrenders.iloc[i]=final_df.surrenders.iloc[i].split('; ')\n"
     ]
    }
   ],
   "source": [
    "for i in range(len(final_df)):\n",
    "    final_df.surrenders.iloc[i]=final_df.surrenders.iloc[i].split('; ')"
   ]
  },
  {
   "cell_type": "code",
   "execution_count": 16,
   "id": "0eb00e62",
   "metadata": {},
   "outputs": [],
   "source": [
    "# i=0\n",
    "# rec2=[]\n",
    "# sur2=[]\n",
    "# while (i < len(final_df)):\n",
    "#     # for j in range(len(final_df.receivers.iloc[i])):\n",
    "#         # print(final_df.receivers.iloc[j])\n",
    "#         for idx, elem in enumerate(final_df.surrenders.iloc[i]):\n",
    "#             thiselem = elem\n",
    "#             # df['R'][idx]=thiselem\n",
    "#             rec2.append(thiselem)\n",
    "#             nextelem = final_df.surrenders.iloc[i][(idx + 1) % len(final_df.surrenders.iloc[i])]\n",
    "#             # df['S'][idx]=nextelem\n",
    "#             sur2.append(nextelem)\n",
    "#             # if len(final_df.receivers.iloc[j]) == 1:\n",
    "#             #     df['R']=final_df.receivers.iloc[j][k]\n",
    "#             #     df['S']=final_df.receivers.iloc[j][k]\n",
    "#             # else: \n",
    "#             #     h=0\n",
    "#             #     while (h < len(final_df.receivers.iloc[j])-1):\n",
    "#             #         df['R']=final_df.receivers.iloc[j][h]\n",
    "#             #         df['S']=final_df.receivers.iloc[j][h+1]\n",
    "#             #         h+=1\n",
    "                \n",
    "#         i+=1\n",
    "\n"
   ]
  },
  {
   "cell_type": "code",
   "execution_count": 17,
   "id": "6f80d63a",
   "metadata": {},
   "outputs": [],
   "source": [
    "# only_sur=[]\n",
    "# i=0\n",
    "# while (i < len(final_df)):\n",
    "#     for idx, elem in enumerate(final_df.surrenders.iloc[i]):\n",
    "#         thiselem = elem\n",
    "#         only_sur.append(elem)\n",
    "        \n",
    "#     i+=1"
   ]
  },
  {
   "cell_type": "code",
   "execution_count": 18,
   "id": "0c0b8556",
   "metadata": {},
   "outputs": [
    {
     "data": {
      "text/plain": "{\"Asta Sotheby's\": 3,\n 'Ashburnham Place, collezione Ashburnham': 2,\n 'Collezione B. Altman': 2,\n 'Collezione H.G. Sperling': 2,\n 'Kleinberger Galleries': 2,\n 'Collezione O. Wertheimer': 1,\n 'ChÃ¢teau de Grange Blanche, collezione Chalandon': 1,\n \"Asta Christie's\": 4,\n 'Harewood House, collezione Earl of Harewood': 1,\n 'P. Corsini': 2,\n 'Collezione S. Brunswick': 1,\n 'Hammer Galleries': 1,\n 'Chiesa del SS. Nome di GesÃ¹': 1,\n 'Collezione J. Pierpont Morgan': 2,\n 'Collezioni reali': 1,\n 'Collezione Colonna': 1,\n 'Convento di S. Antonio da Padova': 1,\n 'Collezione G. e F. Blumenthal': 1,\n 'Collezione J.H. Harding': 1,\n 'Collezione J.E. Taylor': 1,\n 'Collezione J.S. Bache': 3,\n 'Knoedler and Co.': 1,\n 'E. Volpi': 1,\n 'Collezione Fassati': 1,\n 'Collezione Stillman': 1,\n 'Asta Galerie Georges Petit': 2,\n 'Collezione B. Crespi': 2,\n 'Collezione Linsky': 1,\n 'Dowdeswell & Dowdeswell': 1,\n 'Collezione colonnello Sacchetti': 1,\n \"Oratorio di S. Maria Maddalena all'Isola\": 1,\n 'Mercato antiquario': 1,\n 'Collezione Mr. e Mrs. C.B. Wrightsman': 1,\n 'Collezione Mrs. C. Segal': 1,\n 'Morandotti': 1,\n 'Duveen Brothers, Inc.': 3,\n 'F. Mont': 1,\n 'Galleria Fleischmann': 1,\n 'Chatsworth House, collezione duca del Devonshire': 1,\n 'Collezione Friedsam': 1,\n 'Collezione Dillon': 1,\n \"Collezione Chaix-d'Est Anges\": 1,\n 'Collezione R. Lehman': 1,\n \"Agnew's\": 1,\n 'Collezione O. Huldschinsky': 1,\n 'C. Sedelmeyer': 1,\n 'Collezione M. Barberini Colonna di Sciarra': 1,\n 'Collezione Leuchtenberg': 1,\n 'Matthiesen': 1,\n 'E. Sestieri': 1,\n 'Collezione Malanca': 1,\n 'Collezione G.P. Campana': 1,\n 'Collezione D. Fioramonte': 1,\n 'Villa Stati Mattei': 1}"
     },
     "execution_count": 18,
     "metadata": {},
     "output_type": "execute_result"
    }
   ],
   "source": [
    "dic_sur=dict()\n",
    "for index, row in final_df.iterrows():\n",
    "    for elem in row[\"surrenders\"]:\n",
    "        if elem not in dic_sur:\n",
    "            dic_sur[elem]=1\n",
    "        else:\n",
    "            dic_sur[elem]=dic_sur[elem]+1\n",
    "    \n",
    "    \n",
    "\n",
    "dic_sur"
   ]
  },
  {
   "cell_type": "code",
   "execution_count": 19,
   "id": "5229473a",
   "metadata": {},
   "outputs": [
    {
     "data": {
      "text/plain": "{'Collezione O. Wertheimer': 1,\n 'ChÃ¢teau de Grange Blanche, collezione Chalandon': 1,\n 'Harewood House, collezione Earl of Harewood': 1,\n 'Collezione S. Brunswick': 1,\n 'Hammer Galleries': 1,\n 'Chiesa del SS. Nome di GesÃ¹': 1,\n 'Collezioni reali': 1,\n 'Collezione Colonna': 1,\n 'Convento di S. Antonio da Padova': 1,\n 'Collezione G. e F. Blumenthal': 1,\n 'Collezione J.H. Harding': 1,\n 'Collezione J.E. Taylor': 1,\n 'Knoedler and Co.': 1,\n 'E. Volpi': 1,\n 'Collezione Fassati': 1,\n 'Collezione Stillman': 1,\n 'Collezione Linsky': 1,\n 'Dowdeswell & Dowdeswell': 1,\n 'Collezione colonnello Sacchetti': 1,\n \"Oratorio di S. Maria Maddalena all'Isola\": 1,\n 'Mercato antiquario': 1,\n 'Collezione Mr. e Mrs. C.B. Wrightsman': 1,\n 'Collezione Mrs. C. Segal': 1,\n 'Morandotti': 1,\n 'F. Mont': 1,\n 'Galleria Fleischmann': 1,\n 'Chatsworth House, collezione duca del Devonshire': 1,\n 'Collezione Friedsam': 1,\n 'Collezione Dillon': 1,\n \"Collezione Chaix-d'Est Anges\": 1,\n 'Collezione R. Lehman': 1,\n \"Agnew's\": 1,\n 'Collezione O. Huldschinsky': 1,\n 'C. Sedelmeyer': 1,\n 'Collezione M. Barberini Colonna di Sciarra': 1,\n 'Collezione Leuchtenberg': 1,\n 'Matthiesen': 1,\n 'E. Sestieri': 1,\n 'Collezione Malanca': 1,\n 'Collezione G.P. Campana': 1,\n 'Collezione D. Fioramonte': 1,\n 'Villa Stati Mattei': 1,\n 'Ashburnham Place, collezione Ashburnham': 2,\n 'Collezione B. Altman': 2,\n 'Collezione H.G. Sperling': 2,\n 'Kleinberger Galleries': 2,\n 'P. Corsini': 2,\n 'Collezione J. Pierpont Morgan': 2,\n 'Asta Galerie Georges Petit': 2,\n 'Collezione B. Crespi': 2,\n \"Asta Sotheby's\": 3,\n 'Collezione J.S. Bache': 3,\n 'Duveen Brothers, Inc.': 3,\n \"Asta Christie's\": 4}"
     },
     "execution_count": 19,
     "metadata": {},
     "output_type": "execute_result"
    }
   ],
   "source": [
    "dict(sorted(dic_sur.items(), key=lambda item: item[1]))"
   ]
  },
  {
   "attachments": {},
   "cell_type": "markdown",
   "id": "5233fbc7",
   "metadata": {},
   "source": [
    "df_sur = pd.DataFrame(columns=['R','S'])\n",
    "df_sur['R']=rec2\n",
    "df_sur['S']=sur2\n",
    "df_sur = df_sur.query(\"R != S\")\n",
    "df4=df4.drop_duplicates(keep='first')\n",
    "df_sur=df_sur.reset_index()\n",
    "df_sur=df_sur[['R','S']].copy()\n",
    "\n",
    "df_sur_rec=pd.concat([df2, df_sur])"
   ]
  },
  {
   "cell_type": "code",
   "execution_count": 20,
   "id": "e282e25e",
   "metadata": {},
   "outputs": [
    {
     "data": {
      "text/plain": "                       0\nAsta Christie's        4\nAsta Sotheby's         3\nDuveen Brothers, Inc.  3\nCollezione J.S. Bache  3\nKleinberger Galleries  2",
      "text/html": "<div>\n<style scoped>\n    .dataframe tbody tr th:only-of-type {\n        vertical-align: middle;\n    }\n\n    .dataframe tbody tr th {\n        vertical-align: top;\n    }\n\n    .dataframe thead th {\n        text-align: right;\n    }\n</style>\n<table border=\"1\" class=\"dataframe\">\n  <thead>\n    <tr style=\"text-align: right;\">\n      <th></th>\n      <th>0</th>\n    </tr>\n  </thead>\n  <tbody>\n    <tr>\n      <th>Asta Christie's</th>\n      <td>4</td>\n    </tr>\n    <tr>\n      <th>Asta Sotheby's</th>\n      <td>3</td>\n    </tr>\n    <tr>\n      <th>Duveen Brothers, Inc.</th>\n      <td>3</td>\n    </tr>\n    <tr>\n      <th>Collezione J.S. Bache</th>\n      <td>3</td>\n    </tr>\n    <tr>\n      <th>Kleinberger Galleries</th>\n      <td>2</td>\n    </tr>\n  </tbody>\n</table>\n</div>"
     },
     "execution_count": 20,
     "metadata": {},
     "output_type": "execute_result"
    }
   ],
   "source": [
    "dict_df=pd.DataFrame([dic_sur])\n",
    "dict_df=dict_df.T\n",
    "dict_df=dict_df.sort_values(0, ascending=False)\n",
    "dict_df.head()"
   ]
  },
  {
   "cell_type": "code",
   "execution_count": 21,
   "id": "883674f2",
   "metadata": {},
   "outputs": [],
   "source": [
    "#dict_df.drop(dict_df[dict_df > 2 ].index, inplace=True)"
   ]
  },
  {
   "cell_type": "code",
   "execution_count": 22,
   "id": "c162690a",
   "metadata": {},
   "outputs": [],
   "source": [
    "dict_df.rename(columns={0:'freq'}, inplace=True)"
   ]
  },
  {
   "attachments": {},
   "cell_type": "markdown",
   "id": "3b511147",
   "metadata": {},
   "source": [
    "we are considering threshold more than 1 as hub in dataset"
   ]
  },
  {
   "cell_type": "code",
   "execution_count": 23,
   "id": "2d59a55b",
   "metadata": {},
   "outputs": [],
   "source": [
    "dict_df_freq=dict_df.query('freq > 1')"
   ]
  },
  {
   "cell_type": "code",
   "execution_count": 24,
   "id": "c3ebc418",
   "metadata": {},
   "outputs": [],
   "source": [
    "# dict_df_freq.plot.bar(grid=True)"
   ]
  },
  {
   "cell_type": "code",
   "execution_count": 25,
   "id": "70548065",
   "metadata": {},
   "outputs": [
    {
     "data": {
      "text/plain": "                                         freq\nAsta Christie's                             4\nAsta Sotheby's                              3\nDuveen Brothers, Inc.                       3\nCollezione J.S. Bache                       3\nKleinberger Galleries                       2\nCollezione H.G. Sperling                    2\nCollezione B. Altman                        2\nAshburnham Place, collezione Ashburnham     2\nCollezione B. Crespi                        2\nAsta Galerie Georges Petit                  2\nCollezione J. Pierpont Morgan               2\nP. Corsini                                  2",
      "text/html": "<div>\n<style scoped>\n    .dataframe tbody tr th:only-of-type {\n        vertical-align: middle;\n    }\n\n    .dataframe tbody tr th {\n        vertical-align: top;\n    }\n\n    .dataframe thead th {\n        text-align: right;\n    }\n</style>\n<table border=\"1\" class=\"dataframe\">\n  <thead>\n    <tr style=\"text-align: right;\">\n      <th></th>\n      <th>freq</th>\n    </tr>\n  </thead>\n  <tbody>\n    <tr>\n      <th>Asta Christie's</th>\n      <td>4</td>\n    </tr>\n    <tr>\n      <th>Asta Sotheby's</th>\n      <td>3</td>\n    </tr>\n    <tr>\n      <th>Duveen Brothers, Inc.</th>\n      <td>3</td>\n    </tr>\n    <tr>\n      <th>Collezione J.S. Bache</th>\n      <td>3</td>\n    </tr>\n    <tr>\n      <th>Kleinberger Galleries</th>\n      <td>2</td>\n    </tr>\n    <tr>\n      <th>Collezione H.G. Sperling</th>\n      <td>2</td>\n    </tr>\n    <tr>\n      <th>Collezione B. Altman</th>\n      <td>2</td>\n    </tr>\n    <tr>\n      <th>Ashburnham Place, collezione Ashburnham</th>\n      <td>2</td>\n    </tr>\n    <tr>\n      <th>Collezione B. Crespi</th>\n      <td>2</td>\n    </tr>\n    <tr>\n      <th>Asta Galerie Georges Petit</th>\n      <td>2</td>\n    </tr>\n    <tr>\n      <th>Collezione J. Pierpont Morgan</th>\n      <td>2</td>\n    </tr>\n    <tr>\n      <th>P. Corsini</th>\n      <td>2</td>\n    </tr>\n  </tbody>\n</table>\n</div>"
     },
     "execution_count": 25,
     "metadata": {},
     "output_type": "execute_result"
    }
   ],
   "source": [
    "dict_df_freq"
   ]
  },
  {
   "cell_type": "code",
   "execution_count": 26,
   "id": "6a1717dd",
   "metadata": {},
   "outputs": [],
   "source": [
    "freq_lst=[]\n",
    "freq_val=[]\n",
    "for elem in dic_sur:\n",
    "    if dic_sur[elem]>1:\n",
    "        freq_lst.append(elem)\n",
    "        freq_val.append(dic_sur[elem])"
   ]
  },
  {
   "cell_type": "code",
   "execution_count": 27,
   "id": "b4667c8b",
   "metadata": {},
   "outputs": [
    {
     "data": {
      "text/plain": "[\"Asta Sotheby's\",\n 'Ashburnham Place, collezione Ashburnham',\n 'Collezione B. Altman',\n 'Collezione H.G. Sperling',\n 'Kleinberger Galleries',\n \"Asta Christie's\",\n 'P. Corsini',\n 'Collezione J. Pierpont Morgan',\n 'Collezione J.S. Bache',\n 'Asta Galerie Georges Petit',\n 'Collezione B. Crespi',\n 'Duveen Brothers, Inc.']"
     },
     "execution_count": 27,
     "metadata": {},
     "output_type": "execute_result"
    }
   ],
   "source": [
    "freq_lst"
   ]
  },
  {
   "cell_type": "code",
   "execution_count": 28,
   "id": "0004351b",
   "metadata": {},
   "outputs": [
    {
     "data": {
      "text/plain": "<Figure size 640x480 with 1 Axes>",
      "image/png": "[encoded data removed]"
     },
     "metadata": {},
     "output_type": "display_data"
    }
   ],
   "source": [
    "import matplotlib.pyplot as plt\n",
    "\n",
    "fig, ax = plt.subplots()\n",
    "\n",
    "bar_labels = ['red', 'blue', '_red', 'orange']\n",
    "bar_colors = ['tab:blue']\n",
    "\n",
    "ax.bar(freq_lst, freq_val, color=bar_colors)\n",
    "\n",
    "ax.set_ylabel('')\n",
    "ax.set_title('')\n",
    "#ax.legend(title='')\n",
    "plt.xticks(rotation=90)\n",
    "plt.show()"
   ]
  },
  {
   "cell_type": "code",
   "execution_count": 29,
   "id": "2db52f11",
   "metadata": {},
   "outputs": [],
   "source": [
    "# df_sur_rec.duplicated().any()"
   ]
  },
  {
   "cell_type": "code",
   "execution_count": 30,
   "id": "eb0fd1ec",
   "metadata": {},
   "outputs": [],
   "source": [
    "# df5=df5.drop_duplicates(keep='first')"
   ]
  },
  {
   "cell_type": "code",
   "execution_count": 31,
   "id": "9fe5aabd",
   "metadata": {},
   "outputs": [],
   "source": [
    "#df_sur_rec_final=df_sur_rec.reset_index()\n",
    "#df_sur_rec_final=df_sur_rec_final[['R','S']].copy()"
   ]
  },
  {
   "cell_type": "code",
   "execution_count": 32,
   "id": "3d5be871",
   "metadata": {},
   "outputs": [],
   "source": [
    "#df_sur_rec_final"
   ]
  },
  {
   "cell_type": "code",
   "execution_count": 34,
   "id": "f3091f92",
   "metadata": {},
   "outputs": [
    {
     "data": {
      "text/plain": "{'Rudolph and Lentilhon G. von Fluegge Foundation Inc.': {'Jacopo Amigoni': 1},\n 'Rogers Fund': {'Andrea di Bartolo': 1,\n  'Zanobi Strozzi': 1,\n  'Antoniazzo Romano (Antonio di Benedetto Aquilio)': 1,\n  'Giovanni Baronzio': 1,\n  'Fra Bartolomeo (Bartolomeo di Paolo del Fattorino)': 1,\n  'Pompeo Batoni': 2,\n  'Giovanni Bellini': 1,\n  'Francesco Botticini (Francesco di Giovanni)': 1,\n  'Bronzino': 1,\n  'Caravaggio (Michelangelo Merisi)': 1,\n  'Fra Carnevale (Bartolomeo di Giovanni Corradini)': 1,\n  'Rosalba Carriera': 1,\n  'Bernardo Cavallino': 1,\n  'Cima da Conegliano (Giovanni Battista Cima)': 1,\n  'Giovanni di Bartolommeo Cristiani': 1,\n  'Carlo Crivelli': 2,\n  'Gaspare Diziani': 1,\n  'Defendente Ferrari': 1,\n  'Domenico Fetti': 2,\n  'Bernardino Fungai': 1,\n  'Taddeo Gaddi': 1,\n  'Michele Giambono (Michele Giovanni Bono)': 1,\n  'Giovanni da Milano': 1,\n  'Giovanni di Paolo (Giovanni di Paolo di Grazia)': 1,\n  'Giovanni di ser Giovanni Guidi (called Scheggia)': 1,\n  'Benozzo Gozzoli (Benozzo di Lese di Sandro)': 4,\n  'Francesco Granacci (Francesco di Andrea di Marco)': 1,\n  'Francesco Granacci': 1,\n  'Francesco Guardi': 1,\n  'Domenico Guidobono': 1,\n  'Italian (Lombard) Painter': 1,\n  'Italian (Sienese) Painter': 1,\n  'Franceschino Zavattari': 1,\n  'Fra Filippo Lippi': 2,\n  'Pietro Lorenzetti': 1,\n  \"Lorenzo di Credi (Lorenzo d'Andrea d'Oderigo)\": 1,\n  'Lorenzo Lotto': 1,\n  'Marco del Buono Giamberti|Apollonio di Giovanni di Tomaso': 1,\n  'Master of 1416': 2,\n  'Master of Charles of Durazzo': 1,\n  'Master of Flora': 1,\n  'Master of Lecceto': 1,\n  'Master of Monte Oliveto': 1,\n  'Bartolomeo Montagna (Bartolomeo Cincani)': 1,\n  'Moretto da Brescia (Alessandro Bonvicino)': 2,\n  \"Neroccio de' Landi\": 1,\n  'Niccolò di Pietro': 1,\n  'Pietro di Domenico da Montepulciano': 1,\n  'Mattia Preti (Il Cavalier Calabrese)': 1,\n  'Sebastiano Ricci': 1,\n  'Giovanni Francesco Romanelli': 1,\n  'Salvator Rosa': 1,\n  'Francesco Solimena': 2,\n  'Giovanni Battista Tiepolo': 7,\n  'Ludovico Carracci': 1,\n  'Duccio di Buoninsegna': 1,\n  'Gaetano Gandolfi': 1,\n  'Benedetto Luti': 1},\n 'Helen O. Brice': {'Giacomo Andreoli': 1},\n 'Lucy G. Moses': {'Fra Angelico (Guido di Pietro)': 1,\n  'Taddeo di Bartolo': 1},\n 'Benjamin Altman': {'Fra Angelico (Guido di Pietro)': 1,\n  \"Antonello da Messina (Antonello di Giovanni d'Antonio)\": 1,\n  'Botticelli (Alessandro di Mariano Filipepi)': 1,\n  'Francesco Francia': 1,\n  'Domenico Ghirlandaio': 1,\n  'Andrea Mantegna': 1,\n  'Bartolomeo Montagna (Bartolomeo Cincani)': 1,\n  \"Raffaellino del Garbo (also known as Raffaelle de' Capponi and Raffaelle de' Carli)\": 1,\n  'Titian (Tiziano Vecellio)': 2,\n  'Cosmè Tura (Cosimo di Domenico di Bonaventura)': 1,\n  'Andrea del Verrocchio': 1},\n 'May Dougherty King': {'Zanobi Strozzi': 1},\n 'The Friedsam Collection': {\"Antonello da Messina (Antonello di Giovanni d'Antonio)\": 1,\n  'Ercole Banci': 1,\n  \"Biagio d'Antonio\": 2,\n  \"Bonifacio de' Pitati (Bonifacio Veronese)\": 1,\n  'Bernardo Daddi': 1,\n  'Italian Painter': 1,\n  'Domenico Ghirlandaio (Domenico Bigordi)': 1,\n  'Davide Ghirlandaio (David Bigordi)': 1,\n  'Ridolfo Ghirlandaio': 1,\n  'Giovanni di Paolo (Giovanni di Paolo di Grazia)': 3,\n  'Italian (Marchigian?) Painter': 1,\n  'North Italian Painter': 2,\n  'Italian (Umbrian) Painter': 1,\n  'Italian (Venetian) Painter': 1,\n  'Andrea Mantegna': 1,\n  'Master called Pseudo-Pier Francesco Fiorentino': 1,\n  'Marco di Paolo Veneziano': 1,\n  'Cosimo Rosselli': 1,\n  'Franciabigio (Francesco di Cristofano)': 1,\n  'Andrea Solario': 1,\n  'Titian': 1,\n  'Giovanni di Francesco del Cervelliera': 1,\n  'Lippo Vanni (Lippo Vanni di Giovanni)': 1},\n 'Michael Friedsam': {\"Antonello da Messina (Antonello di Giovanni d'Antonio)\": 1,\n  'Ercole Banci': 1,\n  \"Biagio d'Antonio\": 2,\n  \"Bonifacio de' Pitati (Bonifacio Veronese)\": 1,\n  'Bernardo Daddi': 1,\n  'Italian Painter': 1,\n  'Domenico Ghirlandaio (Domenico Bigordi)': 1,\n  'Davide Ghirlandaio (David Bigordi)': 1,\n  'Ridolfo Ghirlandaio': 1,\n  'Giovanni di Paolo (Giovanni di Paolo di Grazia)': 3,\n  'Italian (Marchigian?) Painter': 1,\n  'North Italian Painter': 2,\n  'Italian (Umbrian) Painter': 1,\n  'Italian (Venetian) Painter': 1,\n  'Andrea Mantegna': 1,\n  'Master called Pseudo-Pier Francesco Fiorentino': 1,\n  'Marco di Paolo Veneziano': 1,\n  'Cosimo Rosselli': 1,\n  'Franciabigio (Francesco di Cristofano)': 1,\n  'Andrea Solario': 1,\n  'Titian': 1,\n  'Giovanni di Francesco del Cervelliera': 1,\n  'Lippo Vanni (Lippo Vanni di Giovanni)': 1},\n 'George Blumenthal': {'Antoniazzo Romano (Antonio di Benedetto Aquilio)': 1,\n  'Pompeo Batoni': 1,\n  'Bernardino da Genoa': 1,\n  'Cima da Conegliano (Giovanni Battista Cima)': 1,\n  'Vittore Crivelli': 1,\n  'Bernardo Daddi': 3,\n  'Francesco di Giorgio Martini': 1,\n  'Francesco Francia': 1,\n  'Agnolo Gaddi': 2,\n  'Giovanni di Paolo (Giovanni di Paolo di Grazia)': 2,\n  'Master of the Magdalen': 2,\n  'Ambrogio Lorenzetti': 1,\n  'Luca di Tommè di Nuto': 1,\n  'Master of Monte Oliveto': 1,\n  'Niccolò di Buonaccorso': 1,\n  'Paolo di Giovanni Fei': 1,\n  'Mirabello Cavalori': 1,\n  'Priamo della Quercia (Priamo del Pietro)': 1,\n  'Sassetta (Stefano di Giovanni)': 1,\n  'Segna di Buonaventura': 1,\n  'Jacopo di Arcangelo (called Jacopo del Sellaio)': 1,\n  'Simone Martini': 1,\n  'Jacopo Tintoretto (Jacopo Robusti)': 1,\n  'Ambrogio Bevilacqua': 1,\n  'Ugolino da Siena': 1,\n  'Giovanni Benedetto Castiglione (Il Grechetto)': 1,\n  'Guido Cagnacci': 1},\n 'Gwynne Andrews Fund': {\"Bachiacca (Francesco d'Ubertino Verdi)\": 1,\n  'Bartolomeo di Tommaso': 2,\n  'Francesco Botticini (Francesco di Giovanni)': 1,\n  'Fra Carnevale (Bartolomeo di Giovanni Corradini)': 1,\n  'Annibale Carracci': 1,\n  'Catena (Vincenzo di Biagio)': 1,\n  'Cigoli (Ludovico Cardi)': 1,\n  'Saturnino Gatti': 1,\n  'Niccolò di Pietro Gerini': 1,\n  'Giovanni di ser Giovanni Guidi (called Scheggia)': 1,\n  'Francesco Granacci (Francesco di Andrea di Marco)': 1,\n  'Francesco Granacci': 1,\n  'Domenico Guidobono': 1,\n  'Liberale da Verona': 1,\n  'Andrea di Lione': 1,\n  'Lorenzo Monaco (Piero di Giovanni)': 4,\n  'Giovanni Paolo Panini': 2,\n  'Girolamo Mazzola Bedoli': 1,\n  'Baldassare Tommaso Peruzzi': 1,\n  'Mattia Preti (Il Cavalier Calabrese)': 1,\n  'Sebastiano Ricci': 1,\n  'Andrea Sacchi': 1,\n  'Jacopo Tintoretto (Jacopo Robusti)': 1,\n  'Gaspare Traversi': 1,\n  'Paolo Veronese (Paolo Caliari)': 1,\n  'Ludovico Carracci': 1,\n  'Rosalba Carriera': 1,\n  'Pietro Lorenzetti': 1,\n  'Benedetto Luti': 2,\n  'Domenichino (Domenico Zampieri)': 1,\n  'Orazio Borgianni': 1,\n  'Perino del Vaga (Pietro Buonaccorsi)': 1,\n  'Francesco Trevisani': 1,\n  'Giovanni Benedetto Castiglione (Il Grechetto)': 1,\n  'Guido Cagnacci': 1,\n  \"Stefano da Verona (Stefano di Giovanni d'Arbosio di Francia)\": 1},\n 'The Jack and Belle Linsky Collection': {\"Bachiacca (Francesco d'Ubertino Verdi)\": 2,\n  'Fra Bartolomeo (Bartolomeo di Paolo del Fattorino)': 1,\n  'Bernardino dei Conti': 1,\n  'Carlo Crivelli': 1,\n  'Vittore Crivelli': 1,\n  'Giovanni di Paolo (Giovanni di Paolo di Grazia)': 1,\n  'Francesco Guardi': 2,\n  'Italian (Pisan) Painter': 1,\n  'Alessandro Magnasco': 1,\n  'Master of the Annunciation to the Shepherds': 1,\n  'Pseudo-Palmeruccio': 1,\n  \"Andrea del Sarto (Andrea d'Agnolo)\": 1},\n 'Samuel H. Kress Foundation': {\"Donato de' Bardi\": 1,\n  \"Neroccio de' Landi\": 1,\n  'Antonio Vivarini': 1},\n 'Michael Dreicer': {'Bartolomeo degli Erri': 1,\n  \"Piero di Cosimo (Piero di Lorenzo di Piero d'Antonio)\": 1,\n  'Pietro di Francesco Orioli': 1},\n 'Fletcher Fund': {'Bartolomeo degli Erri': 1,\n  'Bergognone (Ambrogio di Stefano da Fossano)': 2,\n  'Giuliano di Piero di Simone Bugiardini': 1,\n  'Girolamo dai Libri': 1,\n  'Francesco Granacci (Francesco di Andrea di Marco)': 1,\n  'Francesco Granacci': 1,\n  'Duccio di Buoninsegna': 1,\n  'Guido Cagnacci': 1},\n 'Daniel Wildenstein': {'Bartolomeo di Giovanni': 1},\n 'The Charles Engelhard Foundation': {'Pompeo Batoni': 1},\n 'Robert Lehman Foundation Inc.': {'Pompeo Batoni': 1},\n 'Mrs. Haebler Frantz': {'Pompeo Batoni': 1},\n 'April R. Axton': {'Pompeo Batoni': 1},\n 'L. H. P. Klotz': {'Pompeo Batoni': 1},\n 'David Mortimer': {'Pompeo Batoni': 1},\n 'Mr. and Mrs. Charles Wrightsman': {'Pompeo Batoni': 1,\n  'Paris Bordon': 1,\n  'Domenichino (Domenico Zampieri)': 1,\n  'Luca Giordano': 1,\n  'Guercino (Giovanni Francesco Barbieri)': 2,\n  'Guido Reni': 1,\n  'Giovanni Battista Tiepolo': 3,\n  'Giovanni Domenico Tiepolo': 1},\n 'J. Pierpont Morgan': {'Pompeo Batoni': 1,\n  'Giovanni Bellini': 1,\n  \"Biagio d'Antonio\": 1,\n  'Carlo Innocenzo Carloni': 1,\n  'Francesco Casanova': 1,\n  'Garofalo (Benvenuto Tisi da Garofalo)': 2,\n  'Pietro Longhi (Pietro Falca)': 1,\n  'Jacopo di Arcangelo (called Jacopo del Sellaio)': 1,\n  'Mattia Preti (Il Cavalier Calabrese)': 1,\n  'Raphael (Raffaello Sanzio or Santi)': 1,\n  'Sebastiano del Piombo (Sebastiano Luciani)': 1,\n  'Tommaso Fiorentino (Tommaso di Stefano Lunetti)': 1,\n  'Guido Cagnacci': 1},\n 'Millie Bruhl Fredrick': {'Pompeo Batoni': 1, 'Lavinia Fontana': 1},\n 'Mary Clark Thompson': {'Pompeo Batoni': 1},\n 'Theodore M. Davis Collection': {'Giovanni Bellini': 1,\n  'Boccaccio Boccaccino': 1,\n  'Catena (Vincenzo di Biagio)': 1,\n  'Vincenzo Foppa': 1,\n  'Gentile da Fabriano (Gentile di Niccolò di Giovanni di Massio)': 1,\n  'Martino di Bartolommeo di Biagio': 4,\n  'Master of the Lanckoronski Annunciation': 1,\n  'Giovanni Battista Moroni': 2,\n  \"L'Ortolano (Giovanni Battista Benvenuti)\": 1,\n  'Carlo Saraceni': 1,\n  'Cosmè Tura (Cosimo di Domenico di Bonaventura)': 1,\n  'Francesco Zaganelli (Francesco di Bosio)': 1},\n 'Theodore M. Davis': {'Giovanni Bellini': 1,\n  'Boccaccio Boccaccino': 1,\n  'Catena (Vincenzo di Biagio)': 1,\n  'Vincenzo Foppa': 1,\n  'Gentile da Fabriano (Gentile di Niccolò di Giovanni di Massio)': 1,\n  'Martino di Bartolommeo di Biagio': 4,\n  'Master of the Lanckoronski Annunciation': 1,\n  'Giovanni Battista Moroni': 2,\n  \"L'Ortolano (Giovanni Battista Benvenuti)\": 1,\n  'Carlo Saraceni': 1,\n  'Cosmè Tura (Cosimo di Domenico di Bonaventura)': 1,\n  'Francesco Zaganelli (Francesco di Bosio)': 1,\n  'Giovanni Benedetto Castiglione (Il Grechetto)': 1},\n 'The Jules Bache Collection': {'Giovanni Bellini': 2,\n  'Botticelli': 1,\n  'Carlo Crivelli': 1,\n  'Domenico Ghirlandaio (Domenico Bigordi)': 1,\n  'Girolamo da Cremona': 1,\n  'Jacometto (Jacometto Veneziano)': 1,\n  'Filippino Lippi': 1,\n  'Fra Filippo Lippi': 1,\n  'Andrea Mantegna': 1,\n  'Master of the Castello Nativity': 1,\n  'Raphael': 1,\n  \"Luca Signorelli (Luca d'Egidio di Luca di Ventura)\": 1,\n  'Titian (Tiziano Vecellio)': 2,\n  'Cosmè Tura (Cosimo di Domenico di Bonaventura)': 1},\n 'Irma N. Straus': {'Jacopo Bellini': 1,\n  'Berlinghiero': 1,\n  'Master of the Magdalen': 1,\n  'Lippo Memmi (Filippo di Memmo)': 1,\n  'Pacino di Bonaguida': 1,\n  'Sano di Pietro (Ansano di Pietro di Mencio)': 2},\n 'Wrightsman Fund': {'Bernardo Bellotto': 1,\n  'Giovanni di ser Giovanni Guidi (called Scheggia)': 1,\n  'Pier Francesco Mola': 1,\n  'Marcantonio Franceschini': 1},\n 'Joseph Pulitzer': {'Bernardo Bellotto': 1,\n  'Giovanni Battista Moroni': 1,\n  'Luca Signorelli': 1,\n  'Duccio di Buoninsegna': 1},\n 'Coudert Brothers': {'Bicci di Lorenzo': 1,\n  'Giovanni di Paolo (Giovanni di Paolo di Grazia)': 1,\n  'Guariento di Arpo': 1,\n  'Lippo Memmi (Filippo di Memmo)': 1,\n  'Giovanni Benedetto Castiglione (Il Grechetto)': 1},\n 'Francis Kleinberger': {'Bicci di Lorenzo': 1},\n 'Catharine Lorillard Wolfe Collection': {'Giovanni Boldini': 1},\n 'Catharine Lorillard Wolfe': {'Giovanni Boldini': 1},\n 'Mrs. Edward C. Moën': {'Giovanni Boldini': 1},\n 'Consuelo Vanderbilt Balsan': {'Giovanni Boldini': 1},\n 'Martha T. Fiske Collord': {'Giovanni Boldini': 1, 'Alberto Pasini': 1},\n 'Mr. and Mrs. Edwin L. Weisl Jr.': {\"Bonifacio de' Pitati (Bonifacio Veronese)\": 1},\n 'Humanities Fund Inc.': {'Domenico Bossi': 1},\n 'Mr. and Mrs. Edward A. Friedman': {'Giuseppe Bottani': 1},\n 'John Stewart Kennedy Fund': {'Botticelli (Alessandro di Mariano Filipepi)': 1,\n  'Bramantino (Bartolomeo Suardi)': 1,\n  'Vittore Carpaccio': 1,\n  'Correggio (Antonio Allegri)': 1,\n  'Carlo Crivelli': 1,\n  'Giotto di Bondone': 1,\n  'Filippino Lippi': 1,\n  'Moretto da Brescia (Alessandro Bonvicino)': 1,\n  'Giovanni Domenico Tiepolo': 1,\n  'Jacopo Tintoretto (Jacopo Robusti)': 1,\n  'Paolo Veronese (Paolo Caliari)': 1},\n 'H. O. Havemeyer Collection': {'Botticelli': 1,\n  'Bronzino (Agnolo di Cosimo di Mariano)': 1,\n  'Francesco Montemezzano': 1,\n  'Gaspare Traversi|Goya': 1,\n  'Paolo Veronese (Paolo Caliari)': 1},\n 'Mrs. H. O. Havemeyer': {'Botticelli': 1,\n  'Bronzino (Agnolo di Cosimo di Mariano)': 1,\n  'Francesco Montemezzano': 1,\n  'Gaspare Traversi|Goya': 1,\n  'Paolo Veronese (Paolo Caliari)': 1},\n 'George R. Hann': {'Francesco Botticini (Francesco di Giovanni)': 1,\n  'Francesco Francia': 1},\n 'Harris Brisbane Dick Fund': {'Francesco Botticini (Francesco di Giovanni)': 1,\n  'Francesco Granacci (Francesco di Andrea di Marco)': 1,\n  'Francesco Granacci': 1,\n  'Segna di Buonaventura': 3,\n  'Ludovico Carracci': 1,\n  'Duccio di Buoninsegna': 1},\n 'Edward Fowles': {'Giuliano di Piero di Simone Bugiardini': 1,\n  'Italian (Florentine or Sienese) Painter': 1,\n  'North Italian Painter': 1,\n  'Paolo Veneziano': 1},\n 'Paul Ganz': {'Francesco Cairo': 1},\n 'Edith Neuman de Végvár': {'Bernardino Campi': 1},\n 'Mrs. Charles Wrightsman': {'Canaletto (Giovanni Antonio Canal)': 7,\n  'Lorenzo Lotto': 1,\n  'Baldassare Tommaso Peruzzi': 1,\n  'Francesco Guardi': 2,\n  'Giovanni Battista Tiepolo': 2,\n  'Giovanni Domenico Tiepolo': 1},\n 'The Collection of Giovanni P. Morosini': {'F. Carbonara': 1,\n  'Master of Charles of Durazzo': 1},\n 'Collis P. Huntington': {'Annibale Carracci': 1,\n  'Giovanni Battista Gigola': 1,\n  'Alberto Pasini': 1},\n 'Ogden Mills': {'Annibale Carracci': 1},\n 'Miss Adelaide Milton de Groot (1876-1967)': {'Annibale Carracci': 1,\n  'Giovanni Battista Piazzetta': 1},\n 'Dr. and Mrs. Manuel Porter and sons': {'Annibale Carracci': 1},\n 'Mrs. Charles S. Payson': {'Catena (Vincenzo di Biagio)': 1},\n 'Jean Fowles': {'Cenni di Francesco di Ser Cenni': 1,\n  'Giovanni Benedetto Castiglione (Il Grechetto)': 1},\n 'Maria DeWitt Jesup Fund': {'Giacomo Ceruti': 1,\n  'Dosso Dossi (Giovanni de Lutero)': 1,\n  \"Andrea del Sarto (Andrea d'Agnolo)\": 1},\n 'Mario Modestini': {'Giuseppe Bartolomeo Chiari': 1},\n 'Frederick C. Hewitt Fund': {'Guidoccio di Giovanni Cozzarelli': 1,\n  'Pietro Longhi (Pietro Falca)': 2,\n  'Perugino (Pietro di Cristoforo Vannucci)': 1},\n 'Harriet H. Jonas': {'Bernardo Daddi': 1},\n 'Maitland F. Griggs Collection': {'Bernardo Daddi': 2,\n  'Liberale da Verona': 1,\n  'Fra Filippo Lippi': 1,\n  'Maso di Banco': 1,\n  'Fra Angelico (Guido di Pietro)': 1,\n  'Lippo Memmi (Filippo di Memmo)': 1,\n  'Michelino da Besozzo (Michelino de Mulinari)': 1,\n  'Sassetta (Stefano di Giovanni)': 1,\n  'Simone Martini': 4},\n 'Maitland F. Griggs': {'Bernardo Daddi': 2,\n  'Liberale da Verona': 1,\n  'Fra Filippo Lippi': 1,\n  'Maso di Banco': 1,\n  'Fra Angelico (Guido di Pietro)': 1,\n  'Lippo Memmi (Filippo di Memmo)': 1,\n  'Michelino da Besozzo (Michelino de Mulinari)': 1,\n  'Sassetta (Stefano di Giovanni)': 1,\n  'Simone Martini': 4},\n 'Mr. and Mrs. Ralph Friedman': {'Cesare Dandini': 1},\n 'Robert Lehman': {'Giovanni di Tano Fei': 1,\n  'Lippo di Benivieni': 1,\n  'Master of Varlungo': 1,\n  'Matteo di Giovanni di Bartolo': 1,\n  'Jacopo Palma the Younger': 1,\n  'Bartolomeo Vivarini': 1},\n 'Marquand Fund': {'Francesco di Giorgio Martini': 1,\n  'Goodhart Ducciesque Master': 1,\n  'Domenico Guidobono': 1,\n  'Lorenzo Monaco (Piero di Giovanni)': 1,\n  'Mattia Preti (Il Cavalier Calabrese)': 1,\n  'Giovanni Gerolamo Savoldo': 1,\n  'Ludovico Carracci': 1,\n  'Rosalba Carriera': 1,\n  'Domenichino (Domenico Zampieri)': 1,\n  \"Stefano da Verona (Stefano di Giovanni d'Arbosio di Francia)\": 1},\n 'D.C. Samuel H. Kress Collection': {'Francesco di Giorgio Martini': 1},\n 'Lewis C. Ledyard III': {'Francesco Francia': 1},\n 'Mrs. Victor Onet': {'Francesco Francia': 1},\n 'Mrs. T. F. Turner': {'Francesco Francia': 1},\n 'Elinor Dorrance Ingersoll': {'Artemisia Gentileschi': 1},\n 'Francis L. Leland Fund': {'Davide Ghirlandaio (David Bigordi)': 3,\n  'Jacopo Tintoretto (Jacopo Robusti)': 1},\n 'Cornelius Vanderbilt': {'Domenico Ghirlandaio (Domenico Bigordi)': 1,\n  'Aurelio Lomi': 1},\n 'Mrs. W. Murray Crane': {'Francescuccio Ghissi (Francesco di Cecco Ghissi)': 3,\n  'Italian (Florentine) Painter': 1,\n  'Pietro da Rimini': 1},\n 'Mr. and Mrs. Frank E. Richardson': {'Giampietrino (Giovanni Pietro Rizzoli)': 1,\n  'Giovanni di ser Giovanni Guidi (called Scheggia)': 1},\n 'Mr. and Mrs. Harold Morton Landon': {'Luca Giordano': 1},\n 'The Vincent Astor Foundation': {'Giovanni di ser Giovanni Guidi (called Scheggia)': 1},\n 'Annette de la Renta': {'Giovanni di ser Giovanni Guidi (called Scheggia)': 1,\n  'Duccio di Buoninsegna': 1,\n  \"Francesco Salviati (Francesco de' Rossi)\": 1},\n 'Drue Heinz Foundation': {'Giovanni di ser Giovanni Guidi (called Scheggia)': 1},\n 'The Annenberg Foundation': {'Giovanni di ser Giovanni Guidi (called Scheggia)': 1,\n  'Ludovico Carracci': 1},\n 'the children of Mrs. Harry Payne Whitney': {'Giovanni di ser Giovanni Guidi (called Scheggia)': 1},\n 'Mr. and Mrs. Joshua Logan': {'Giovanni di ser Giovanni Guidi (called Scheggia)': 1},\n 'Harry G. Sperling': {'Benozzo Gozzoli (Benozzo di Lese di Sandro)': 1,\n  'Jacopino del Conte': 1,\n  'Gaspare Traversi': 1},\n 'Dodge Fund': {'Francesco Granacci (Francesco di Andrea di Marco)': 1,\n  'Francesco Granacci': 1,\n  'Duccio di Buoninsegna': 1},\n 'Ella Morris de Peyster': {'Francesco Granacci (Francesco di Andrea di Marco)': 1,\n  'Francesco Granacci': 1},\n 'Mrs. Donald Oenslager': {'Francesco Granacci (Francesco di Andrea di Marco)': 1,\n  'Francesco Granacci': 1},\n 'Julia A. Berwind': {'Francesco Guardi': 2},\n 'Adele L. Lehman': {'Francesco Guardi': 1,\n  'Master G.Z. (possibly Michele dai Carri, Italian, Ferrara, active by 1405–died 1441 Ferrara)': 1,\n  'Sano di Pietro (Ansano di Pietro di Mencio)': 1,\n  'Segna di Buonaventura': 1,\n  'Antonio Vivarini': 1,\n  'Bartolomeo Vivarini': 1,\n  'Giovanni Benedetto Castiglione (Il Grechetto)': 1},\n 'Mary Stillman Harkness': {'Francesco Guardi': 1,\n  'Pesellino (Francesco di Stefano)': 1},\n 'R. A. Farnsworth': {'Domenico Guidobono': 1},\n 'Victor Wilbour Memorial Fund': {'Domenico Guidobono': 1,\n  'Italian (Venetian) Painter': 1,\n  'Mattia Preti (Il Cavalier Calabrese)': 1,\n  'Guido Reni': 1,\n  'Ludovico Carracci': 1,\n  'Rosalba Carriera': 1,\n  \"Stefano da Verona (Stefano di Giovanni d'Arbosio di Francia)\": 1},\n 'The Alfred N. Punnett Endowment Fund': {'Domenico Guidobono': 1,\n  'Mattia Preti (Il Cavalier Calabrese)': 1,\n  'Ludovico Carracci': 1,\n  \"Stefano da Verona (Stefano di Giovanni d'Arbosio di Francia)\": 1},\n 'Charles B. Curtis Fund': {'Domenico Guidobono': 1,\n  'Salvator Rosa': 1,\n  'Ludovico Carracci': 1},\n 'James L. Loeb': {\"Nicola di Maestro Antonio d'Ancona\": 1},\n 'Georges Brauer': {'Italian (Florentine) Painter': 1},\n 'Colonel C. Michael Paul': {'Italian (Florentine) Painter': 1},\n 'Katherine S. Dreier': {'Italian (Florentine) Painter': 1},\n 'Marquand Collection': {'Italian (Lombard) Painter': 1,\n  'Fra Filippo Lippi': 1,\n  \"Marco d'Oggiono\": 1},\n 'Henry G. Marquand': {'Italian (Lombard) Painter': 1,\n  'Fra Filippo Lippi': 1,\n  \"Marco d'Oggiono\": 1},\n 'Mary Cushing Fosburgh': {'Italian (Umbrian) Painter': 1},\n 'Rodman Wanamaker': {'Italian (Umbrian) Painter': 1},\n 'Clarence Dillon': {'Daniele da Volterra': 1},\n 'Alice Bradford Woolsey': {'Antonio Joli': 1},\n 'Eric Seiler': {'Jacopo Ligozzi': 1},\n 'Darcy Bradbury': {'Jacopo Ligozzi': 1},\n 'Edward A. and Karen S. W. Friedman': {'Jacopo Ligozzi': 1},\n 'Donald S. Klopfer': {'Filippino Lippi': 1},\n 'Samuel H. Kress': {'Pietro Longhi (Pietro Falca)': 1,\n  'Master of the Orcagnesque Misericordia': 1},\n 'Richard De Wolfe Brixey': {\"Lorenzo di Credi (Lorenzo d'Andrea d'Oderigo)\": 1},\n 'G. Louise Robinson': {'Lorenzo Monaco (Piero di Giovanni)': 1},\n 'Mrs. Ralph J. Hines': {'Lorenzo Monaco (Piero di Giovanni)': 1},\n 'Mabel Choate': {'Lorenzo Monaco (Piero di Giovanni)': 1},\n 'Paul Peralta Ramos': {'Lorenzo Monaco (Piero di Giovanni)': 1},\n 'Administration Fund': {'Luca di Tommè di Nuto': 1},\n 'Katherine D. W. Glover': {'Alessandro Magnasco': 1},\n 'Kretschmar Fund': {'Giovanni Maldura': 1},\n 'Elizabeth U. Coles': {'Antonio Mancini': 1},\n 'Anonymous': {'Andrea Mantegna': 1,\n  'Scipione Pulzone (Il Gaetano)': 1,\n  'Girolamo Romanino': 1},\n 'Gloria Zicht': {'Luigi Marta': 1},\n 'The Jack and Belle Linsky Foundation': {'Master of the Orcagnesque Misericordia': 1,\n  'Perugino (Pietro di Cristoforo Vannucci)': 1},\n 'Mrs. Ridgely Hunt': {\"Neroccio de' Landi\": 1},\n 'Alice Borland Wilson': {'Bernardino Detti': 1},\n 'James S. Deely': {'Girolamo Mazzola Bedoli': 1},\n 'Mr. and Mrs. Eugene Victor Thaw': {'Giovanni Antonio Pellegrini': 1},\n 'Robert Gordon': {\"Piero di Cosimo (Piero di Lorenzo di Piero d'Antonio)\": 2},\n 'Edward S. Harkness': {'Piero del Pollaiuolo (Piero di Jacopo Benci)': 1,\n  'Cosimo Rosselli': 1},\n 'Helena W. Charlton': {'Mattia Preti (Il Cavalier Calabrese)': 1},\n 'Enid A. Haupt': {'Giulio Cesare Procaccini': 1, 'Andrea Sacchi': 1},\n 'Jane L. Melville': {'Sebastiano Ricci': 1},\n 'Mr. and Mrs. Piero Corsini': {'Sebastiano Ricci': 1},\n 'Mary L. Harrison': {'Salvator Rosa': 1},\n 'Mr. and Mrs. Nate B. Spingold': {\"Francesco Salviati (Francesco de' Rossi)\": 1},\n 'Mary V. T. Eberstadt': {'Andrea Schiavone (Andrea Meldola)': 1},\n 'Josephine Bieber': {'Sebastiano del Piombo': 1},\n 'the Collection of James Stillman': {'Andrea Solario': 1},\n 'Dr. Ernest G. Stillman': {'Andrea Solario': 1},\n 'the family of Francis M. Bacon': {'Spinello Aretino (Spinello di Luca Spinelli)': 1},\n 'Edward W. Carter': {'Massimo Stanzione': 1},\n 'Mary Wetmore Shively': {'Bernardo Strozzi': 1},\n 'Eula M. Ganz': {'Pietro Testa': 1},\n 'Grace Rainey Rogers': {'Girolamo Mengozzi (called Colonna)|Giovanni Battista Tiepolo': 4,\n  'Giovanni Battista Tiepolo': 5,\n  'Giovanni Domenico Tiepolo': 4},\n 'Munsey Fund': {'Titian': 2},\n 'Bernard M. Baruch': {'Francesco Zuccarelli': 1},\n 'Asbjorn R. Lunde': {'Sodoma (Giovanni Antonio Bazzi)': 1,\n  'Bernardo Daddi': 1},\n 'Herman and Lila Shickman': {'Caravaggio (Michelangelo Merisi)': 1},\n 'Lila Acheson Wallace': {'Caravaggio (Michelangelo Merisi)': 1,\n  'Ludovico Carracci': 1,\n  'Pietro Lorenzetti': 1,\n  'Federico Barocci': 1,\n  'Duccio di Buoninsegna': 1,\n  'Giovanni Benedetto Castiglione (Il Grechetto)': 1,\n  'Guido Cagnacci': 1},\n 'Lore Heinemann': {'Taddeo Gaddi': 1,\n  'Giovanni di Paolo (Giovanni di Paolo di Grazia)': 2,\n  'Francesco Guardi': 2,\n  'Giovanni Battista Tiepolo': 2,\n  'Paolo Uccello (Paolo di Dono)': 1},\n 'Jules Fisher': {'Santi di Tito': 1},\n 'Friends of European Paintings': {'Santi di Tito': 1,\n  'Francesco Granacci (Francesco di Andrea di Marco)': 1,\n  'Perino del Vaga (Pietro Buonaccorsi)': 1,\n  'Ubaldo Gandolfi': 1,\n  'Guido Cagnacci': 1,\n  'Giovanni Battista Gaulli (Il Baciccio)': 1},\n 'Dianne Modestini': {'Domenico Fetti': 1, 'Giovanni Battista Piazzetta': 1},\n 'Edwin L. Weisl Jr.': {'Annibale Carracci': 1},\n 'Mary Jane Harris': {'Scarsellino (Ippolito Scarsella)': 1},\n 'Francesca Rospigliosi': {'Bianca Boni': 1},\n 'Jon and Barbara Landau': {'Ludovico Carracci': 1,\n  'Perino del Vaga (Pietro Buonaccorsi)': 1},\n 'Mr. and Mrs. Mark Fisch': {'Ludovico Carracci': 2,\n  'Corrado Giaquinto': 1,\n  'Domenichino (Domenico Zampieri)': 1,\n  'Jacopo Bassano (Jacopo da Ponte)': 1,\n  'Perino del Vaga (Pietro Buonaccorsi)': 1},\n 'Pat and John Rosenwald': {'Ludovico Carracci': 1},\n 'Gwynne Andrews Funds': {'Ludovico Carracci': 1},\n 'Mortimer D. Sackler': {'Ludovico Carracci': 1},\n 'Theresa Sackler and Family Fund': {'Ludovico Carracci': 1},\n 'Mario and Dianne Modestini': {'Francesco Granacci (Francesco di Andrea di Marco)': 1},\n 'Nancy': {'Francesco Granacci (Francesco di Andrea di Marco)': 1},\n 'Carolina': {'Francesco Granacci (Francesco di Andrea di Marco)': 1},\n 'Isabelle Richardson': {'Francesco Granacci (Francesco di Andrea di Marco)': 1},\n 'George Delacorte Fund': {'Rosalba Carriera': 1, 'Carlo Dolci': 1},\n '2002 Benefit Fund': {'Federico Barocci': 1},\n 'Richard L. Feigen': {'Carlo Saraceni': 1},\n 'Walter and Leonore Annenberg and The Annenberg Foundation': {'Duccio di Buoninsegna': 1},\n 'Louis V. Bell Fund': {'Duccio di Buoninsegna': 1},\n \"several members of The Chairman's Council\": {'Duccio di Buoninsegna': 1},\n 'Elaine L. Rosenberg': {'Duccio di Buoninsegna': 1},\n 'Stephenson Family Foundation': {'Duccio di Buoninsegna': 1,\n  'Domenichino (Domenico Zampieri)': 1},\n '2003 Benefit Fund': {'Duccio di Buoninsegna': 1},\n 'Lawrence and Julie Salander': {'Bruno Marzi': 1, 'Umberto Giunti': 1},\n 'Fabrizio Moretti': {'Annibale Carracci': 1,\n  'Giovanni Battista Gaulli (Il Baciccio)': 1,\n  'Giacomo Ceruti': 1},\n 'Adam Williams': {'Annibale Carracci': 1},\n 'Melissa O. Aronson': {'Mattia Preti (Il Cavalier Calabrese)': 1},\n 'Walter and Leonore Annenberg Acquisitions Endowment Fund': {'Domenichino (Domenico Zampieri)': 1,\n  \"Francesco Salviati (Francesco de' Rossi)\": 1},\n 'The Reed Foundation': {'Domenichino (Domenico Zampieri)': 1},\n 'Elaine Rosenberg': {'Domenichino (Domenico Zampieri)': 1},\n 'Edward J. Gallagher Jr.': {'Domenichino (Domenico Zampieri)': 1},\n 'Museum Purchase Fund': {'Domenichino (Domenico Zampieri)': 1},\n 'Peter Tcherepnine': {'Domenichino (Domenico Zampieri)': 1},\n 'The Camille M. Lownds Fund': {'Domenichino (Domenico Zampieri)': 1},\n 'Ruth and Victoria Blumka Fund': {'Domenichino (Domenico Zampieri)': 1},\n 'Earl Kiely': {'Domenichino (Domenico Zampieri)': 1},\n '2005 CINOA Prize and Diane Carol Brandt': {'Domenichino (Domenico Zampieri)': 1},\n 'The Morse G. Dial Foundation': {'Domenichino (Domenico Zampieri)': 1},\n 'Thaw Collection': {'Giovanni Battista Camuccini': 3,\n  'Agostino Tassi': 1,\n  'Pier Francesco Mola': 1},\n 'Eugene V. Thaw': {'Giovanni Battista Camuccini': 3,\n  'Agostino Tassi': 1,\n  'Pier Francesco Mola': 1,\n  'Giovanni Battista Piazzetta': 1},\n 'Charles and Jessie Price': {'Gaetano Gandolfi': 1,\n  'Perino del Vaga (Pietro Buonaccorsi)': 1,\n  'Guido Cagnacci': 1,\n  \"Stefano da Verona (Stefano di Giovanni d'Arbosio di Francia)\": 1},\n 'Stephen Mazoh': {'Gaetano Gandolfi': 1, 'Francesco Trevisani': 1},\n 'Brian J. Brille': {'Filippo Tarchiani': 1},\n 'Marco Voena': {'Orazio Borgianni': 1},\n 'Luigi Koelliker': {'Orazio Borgianni': 1},\n 'Anne Cox Chambers': {'Michele Gordigiani': 1},\n 'Acquisitions Fund': {'Perino del Vaga (Pietro Buonaccorsi)': 1},\n 'Denise and Andrew Saul': {'Perino del Vaga (Pietro Buonaccorsi)': 1},\n 'Fern and George Wachter': {'Perino del Vaga (Pietro Buonaccorsi)': 1},\n 'Hester Diamond': {'Perino del Vaga (Pietro Buonaccorsi)': 1},\n 'Mr. and Mrs. J. Tomilson Hill': {'Perino del Vaga (Pietro Buonaccorsi)': 1},\n 'Anna Mont': {'Francesco Maffei': 1, 'Carlo Francesco Nuvolone': 1},\n 'University Place Foundation': {'Corrado Giaquinto': 1},\n 'Damon Mezzacappa': {'Ottavio Leoni (Il Padovano)': 1},\n 'Álvaro Saieh Bendeck': {'Giovanni Battista Gaulli (Il Baciccio)': 1,\n  'Guido Cagnacci': 1,\n  \"Stefano da Verona (Stefano di Giovanni d'Arbosio di Francia)\": 1},\n 'Jean-Luc Baroni': {'Giovanni Battista Gaulli (Il Baciccio)': 1},\n 'Helen Hay Whitney': {'Giovanni Benedetto Castiglione (Il Grechetto)': 1},\n 'Harry Payne Bingham Jr.': {'Giovanni Benedetto Castiglione (Il Grechetto)': 1},\n 'Patrick Matthiesen and The Matthiesen Gallery': {'Ludovico Mazzolino': 1},\n 'Diane Burke': {'Guido Cagnacci': 1},\n 'Michel David-Weill': {'Guido Cagnacci': 1},\n 'Dinko Podrug': {'Antoniazzo Romano (Antonio di Benedetto Aquilio)': 1},\n 'Nena Ilic-Podrug': {'Antoniazzo Romano (Antonio di Benedetto Aquilio)': 1},\n 'Iva Podrug': {'Antoniazzo Romano (Antonio di Benedetto Aquilio)': 1},\n 'Claire and Giovanni Sarti': {'Bartolomeo Cavarozzi': 1},\n 'Mr. and Mrs. Frederick W. Beinecke': {'Carlo Dolci': 1},\n 'Mr. and Mrs. Richard L. Chilton Jr.': {'Carlo Dolci': 1},\n 'Ronald S. Lauder': {'Carlo Dolci': 1,\n  \"Francesco Salviati (Francesco de' Rossi)\": 1},\n 'in memory of George T. Delacorte Jr.': {'Carlo Dolci': 1},\n 'The Morris': {'Giovanni Battista Caracciolo': 1},\n 'Alma Schapiro Fund': {'Giovanni Battista Caracciolo': 1},\n 'Everett Fahy': {'Placido Costanzi': 1},\n 'The Morris and Alma Schapiro Fund': {\"Francesco Salviati (Francesco de' Rossi)\": 1},\n 'Alejandro Santo Domingo': {\"Francesco Salviati (Francesco de' Rossi)\": 1},\n 'David and Julie Tobey': {\"Francesco Salviati (Francesco de' Rossi)\": 1},\n 'Brownstein Family Foundation': {\"Francesco Salviati (Francesco de' Rossi)\": 1},\n 'Beatrice Stern': {\"Francesco Salviati (Francesco de' Rossi)\": 1},\n 'Maurizio and Dominique Canesso': {'Girolamo da Carpi (Girolamo Sellari)': 1},\n 'Philippe de Montebello Fund': {\"Stefano da Verona (Stefano di Giovanni d'Arbosio di Francia)\": 1},\n 'Mrs. William M. Haupt': {\"Stefano da Verona (Stefano di Giovanni d'Arbosio di Francia)\": 1},\n 'Lillian S. Timken': {\"Stefano da Verona (Stefano di Giovanni d'Arbosio di Francia)\": 1},\n 'Forsyth Wickes': {\"Stefano da Verona (Stefano di Giovanni d'Arbosio di Francia)\": 1},\n 'the Eugene V. and Clare E. Thaw Charitable Trust': {'Canaletto (Giovanni Antonio Canal)': 1},\n 'Errol M. Rudman': {'Orsola Maddalena Caccia': 3,\n  'Panfilo Nuvolone': 1,\n  'Giuseppe Ruoppolo': 1,\n  'Alessandro Turchi': 1,\n  'Giovanni Benedetto Castiglione (Il Grechetto)': 1,\n  'Bartolomeo Cavarozzi|Master of the Acquavella Still Life': 1,\n  'Carlo Maratti': 1,\n  'Carlo Cignani': 1},\n 'Alan M. May': {'Pier Francesco Mola': 1}}"
     },
     "execution_count": 34,
     "metadata": {},
     "output_type": "execute_result"
    }
   ],
   "source": [
    "#art_dealers_dict={artdealer1:{artist1:1, artist2:2}, artdealer2:{.. . ..}}\n",
    "\n",
    "#agents_df=pd.read_csv(\"D:\\\\PycharmProjects\\\\infoviz\\\\data_management\\\\transfers.csv\")\n",
    "agents_df=pd.read_csv(\"E:\\\\GitHub\\\\infoviz\\\\data_management\\\\transfers.csv\")\n",
    "\n",
    "\n",
    "art_dealers_dict={}\n",
    "\n",
    "for index, row in agents_df.iterrows():\n",
    "    if type(row[\"agentsTransfer\"]) == type(\"\"):\n",
    "        for elem in row[\"agentsTransfer\"].split(', '):\n",
    "            if elem not in art_dealers_dict:\n",
    "                art_dealers_dict[elem]={row[\"Artist Display Name\"]:1}\n",
    "            else:\n",
    "                if row[\"Artist Display Name\"] in art_dealers_dict[elem]:\n",
    "                    art_dealers_dict[elem][row[\"Artist Display Name\"]]+=1\n",
    "                else:\n",
    "                    art_dealers_dict[elem][row[\"Artist Display Name\"]]=1\n",
    "\n",
    "art_dealers_dict"
   ]
  },
  {
   "cell_type": "code",
   "execution_count": 35,
   "id": "480451fa",
   "metadata": {},
   "outputs": [],
   "source": [
    "for elem in art_dealers_dict:\n",
    "\n",
    "    art_dealers_dict[elem] = dict(sorted(art_dealers_dict[elem].items(), key=lambda item: item[1]))"
   ]
  },
  {
   "cell_type": "code",
   "execution_count": 36,
   "id": "6a9656cd",
   "metadata": {},
   "outputs": [
    {
     "data": {
      "text/plain": "{'Rudolph and Lentilhon G. von Fluegge Foundation Inc.': {'Jacopo Amigoni': 1},\n 'Rogers Fund': {'Andrea di Bartolo': 1,\n  'Zanobi Strozzi': 1,\n  'Antoniazzo Romano (Antonio di Benedetto Aquilio)': 1,\n  'Giovanni Baronzio': 1,\n  'Fra Bartolomeo (Bartolomeo di Paolo del Fattorino)': 1,\n  'Giovanni Bellini': 1,\n  'Francesco Botticini (Francesco di Giovanni)': 1,\n  'Bronzino': 1,\n  'Caravaggio (Michelangelo Merisi)': 1,\n  'Fra Carnevale (Bartolomeo di Giovanni Corradini)': 1,\n  'Rosalba Carriera': 1,\n  'Bernardo Cavallino': 1,\n  'Cima da Conegliano (Giovanni Battista Cima)': 1,\n  'Giovanni di Bartolommeo Cristiani': 1,\n  'Gaspare Diziani': 1,\n  'Defendente Ferrari': 1,\n  'Bernardino Fungai': 1,\n  'Taddeo Gaddi': 1,\n  'Michele Giambono (Michele Giovanni Bono)': 1,\n  'Giovanni da Milano': 1,\n  'Giovanni di Paolo (Giovanni di Paolo di Grazia)': 1,\n  'Giovanni di ser Giovanni Guidi (called Scheggia)': 1,\n  'Francesco Granacci (Francesco di Andrea di Marco)': 1,\n  'Francesco Granacci': 1,\n  'Francesco Guardi': 1,\n  'Domenico Guidobono': 1,\n  'Italian (Lombard) Painter': 1,\n  'Italian (Sienese) Painter': 1,\n  'Franceschino Zavattari': 1,\n  'Pietro Lorenzetti': 1,\n  \"Lorenzo di Credi (Lorenzo d'Andrea d'Oderigo)\": 1,\n  'Lorenzo Lotto': 1,\n  'Marco del Buono Giamberti|Apollonio di Giovanni di Tomaso': 1,\n  'Master of Charles of Durazzo': 1,\n  'Master of Flora': 1,\n  'Master of Lecceto': 1,\n  'Master of Monte Oliveto': 1,\n  'Bartolomeo Montagna (Bartolomeo Cincani)': 1,\n  \"Neroccio de' Landi\": 1,\n  'Niccolò di Pietro': 1,\n  'Pietro di Domenico da Montepulciano': 1,\n  'Mattia Preti (Il Cavalier Calabrese)': 1,\n  'Sebastiano Ricci': 1,\n  'Giovanni Francesco Romanelli': 1,\n  'Salvator Rosa': 1,\n  'Ludovico Carracci': 1,\n  'Duccio di Buoninsegna': 1,\n  'Gaetano Gandolfi': 1,\n  'Benedetto Luti': 1,\n  'Pompeo Batoni': 2,\n  'Carlo Crivelli': 2,\n  'Domenico Fetti': 2,\n  'Fra Filippo Lippi': 2,\n  'Master of 1416': 2,\n  'Moretto da Brescia (Alessandro Bonvicino)': 2,\n  'Francesco Solimena': 2,\n  'Benozzo Gozzoli (Benozzo di Lese di Sandro)': 4,\n  'Giovanni Battista Tiepolo': 7},\n 'Helen O. Brice': {'Giacomo Andreoli': 1},\n 'Lucy G. Moses': {'Fra Angelico (Guido di Pietro)': 1,\n  'Taddeo di Bartolo': 1},\n 'Benjamin Altman': {'Fra Angelico (Guido di Pietro)': 1,\n  \"Antonello da Messina (Antonello di Giovanni d'Antonio)\": 1,\n  'Botticelli (Alessandro di Mariano Filipepi)': 1,\n  'Francesco Francia': 1,\n  'Domenico Ghirlandaio': 1,\n  'Andrea Mantegna': 1,\n  'Bartolomeo Montagna (Bartolomeo Cincani)': 1,\n  \"Raffaellino del Garbo (also known as Raffaelle de' Capponi and Raffaelle de' Carli)\": 1,\n  'Cosmè Tura (Cosimo di Domenico di Bonaventura)': 1,\n  'Andrea del Verrocchio': 1,\n  'Titian (Tiziano Vecellio)': 2},\n 'May Dougherty King': {'Zanobi Strozzi': 1},\n 'The Friedsam Collection': {\"Antonello da Messina (Antonello di Giovanni d'Antonio)\": 1,\n  'Ercole Banci': 1,\n  \"Bonifacio de' Pitati (Bonifacio Veronese)\": 1,\n  'Bernardo Daddi': 1,\n  'Italian Painter': 1,\n  'Domenico Ghirlandaio (Domenico Bigordi)': 1,\n  'Davide Ghirlandaio (David Bigordi)': 1,\n  'Ridolfo Ghirlandaio': 1,\n  'Italian (Marchigian?) Painter': 1,\n  'Italian (Umbrian) Painter': 1,\n  'Italian (Venetian) Painter': 1,\n  'Andrea Mantegna': 1,\n  'Master called Pseudo-Pier Francesco Fiorentino': 1,\n  'Marco di Paolo Veneziano': 1,\n  'Cosimo Rosselli': 1,\n  'Franciabigio (Francesco di Cristofano)': 1,\n  'Andrea Solario': 1,\n  'Titian': 1,\n  'Giovanni di Francesco del Cervelliera': 1,\n  'Lippo Vanni (Lippo Vanni di Giovanni)': 1,\n  \"Biagio d'Antonio\": 2,\n  'North Italian Painter': 2,\n  'Giovanni di Paolo (Giovanni di Paolo di Grazia)': 3},\n 'Michael Friedsam': {\"Antonello da Messina (Antonello di Giovanni d'Antonio)\": 1,\n  'Ercole Banci': 1,\n  \"Bonifacio de' Pitati (Bonifacio Veronese)\": 1,\n  'Bernardo Daddi': 1,\n  'Italian Painter': 1,\n  'Domenico Ghirlandaio (Domenico Bigordi)': 1,\n  'Davide Ghirlandaio (David Bigordi)': 1,\n  'Ridolfo Ghirlandaio': 1,\n  'Italian (Marchigian?) Painter': 1,\n  'Italian (Umbrian) Painter': 1,\n  'Italian (Venetian) Painter': 1,\n  'Andrea Mantegna': 1,\n  'Master called Pseudo-Pier Francesco Fiorentino': 1,\n  'Marco di Paolo Veneziano': 1,\n  'Cosimo Rosselli': 1,\n  'Franciabigio (Francesco di Cristofano)': 1,\n  'Andrea Solario': 1,\n  'Titian': 1,\n  'Giovanni di Francesco del Cervelliera': 1,\n  'Lippo Vanni (Lippo Vanni di Giovanni)': 1,\n  \"Biagio d'Antonio\": 2,\n  'North Italian Painter': 2,\n  'Giovanni di Paolo (Giovanni di Paolo di Grazia)': 3},\n 'George Blumenthal': {'Antoniazzo Romano (Antonio di Benedetto Aquilio)': 1,\n  'Pompeo Batoni': 1,\n  'Bernardino da Genoa': 1,\n  'Cima da Conegliano (Giovanni Battista Cima)': 1,\n  'Vittore Crivelli': 1,\n  'Francesco di Giorgio Martini': 1,\n  'Francesco Francia': 1,\n  'Ambrogio Lorenzetti': 1,\n  'Luca di Tommè di Nuto': 1,\n  'Master of Monte Oliveto': 1,\n  'Niccolò di Buonaccorso': 1,\n  'Paolo di Giovanni Fei': 1,\n  'Mirabello Cavalori': 1,\n  'Priamo della Quercia (Priamo del Pietro)': 1,\n  'Sassetta (Stefano di Giovanni)': 1,\n  'Segna di Buonaventura': 1,\n  'Jacopo di Arcangelo (called Jacopo del Sellaio)': 1,\n  'Simone Martini': 1,\n  'Jacopo Tintoretto (Jacopo Robusti)': 1,\n  'Ambrogio Bevilacqua': 1,\n  'Ugolino da Siena': 1,\n  'Giovanni Benedetto Castiglione (Il Grechetto)': 1,\n  'Guido Cagnacci': 1,\n  'Agnolo Gaddi': 2,\n  'Giovanni di Paolo (Giovanni di Paolo di Grazia)': 2,\n  'Master of the Magdalen': 2,\n  'Bernardo Daddi': 3},\n 'Gwynne Andrews Fund': {\"Bachiacca (Francesco d'Ubertino Verdi)\": 1,\n  'Francesco Botticini (Francesco di Giovanni)': 1,\n  'Fra Carnevale (Bartolomeo di Giovanni Corradini)': 1,\n  'Annibale Carracci': 1,\n  'Catena (Vincenzo di Biagio)': 1,\n  'Cigoli (Ludovico Cardi)': 1,\n  'Saturnino Gatti': 1,\n  'Niccolò di Pietro Gerini': 1,\n  'Giovanni di ser Giovanni Guidi (called Scheggia)': 1,\n  'Francesco Granacci (Francesco di Andrea di Marco)': 1,\n  'Francesco Granacci': 1,\n  'Domenico Guidobono': 1,\n  'Liberale da Verona': 1,\n  'Andrea di Lione': 1,\n  'Girolamo Mazzola Bedoli': 1,\n  'Baldassare Tommaso Peruzzi': 1,\n  'Mattia Preti (Il Cavalier Calabrese)': 1,\n  'Sebastiano Ricci': 1,\n  'Andrea Sacchi': 1,\n  'Jacopo Tintoretto (Jacopo Robusti)': 1,\n  'Gaspare Traversi': 1,\n  'Paolo Veronese (Paolo Caliari)': 1,\n  'Ludovico Carracci': 1,\n  'Rosalba Carriera': 1,\n  'Pietro Lorenzetti': 1,\n  'Domenichino (Domenico Zampieri)': 1,\n  'Orazio Borgianni': 1,\n  'Perino del Vaga (Pietro Buonaccorsi)': 1,\n  'Francesco Trevisani': 1,\n  'Giovanni Benedetto Castiglione (Il Grechetto)': 1,\n  'Guido Cagnacci': 1,\n  \"Stefano da Verona (Stefano di Giovanni d'Arbosio di Francia)\": 1,\n  'Bartolomeo di Tommaso': 2,\n  'Giovanni Paolo Panini': 2,\n  'Benedetto Luti': 2,\n  'Lorenzo Monaco (Piero di Giovanni)': 4},\n 'The Jack and Belle Linsky Collection': {'Fra Bartolomeo (Bartolomeo di Paolo del Fattorino)': 1,\n  'Bernardino dei Conti': 1,\n  'Carlo Crivelli': 1,\n  'Vittore Crivelli': 1,\n  'Giovanni di Paolo (Giovanni di Paolo di Grazia)': 1,\n  'Italian (Pisan) Painter': 1,\n  'Alessandro Magnasco': 1,\n  'Master of the Annunciation to the Shepherds': 1,\n  'Pseudo-Palmeruccio': 1,\n  \"Andrea del Sarto (Andrea d'Agnolo)\": 1,\n  \"Bachiacca (Francesco d'Ubertino Verdi)\": 2,\n  'Francesco Guardi': 2},\n 'Samuel H. Kress Foundation': {\"Donato de' Bardi\": 1,\n  \"Neroccio de' Landi\": 1,\n  'Antonio Vivarini': 1},\n 'Michael Dreicer': {'Bartolomeo degli Erri': 1,\n  \"Piero di Cosimo (Piero di Lorenzo di Piero d'Antonio)\": 1,\n  'Pietro di Francesco Orioli': 1},\n 'Fletcher Fund': {'Bartolomeo degli Erri': 1,\n  'Giuliano di Piero di Simone Bugiardini': 1,\n  'Girolamo dai Libri': 1,\n  'Francesco Granacci (Francesco di Andrea di Marco)': 1,\n  'Francesco Granacci': 1,\n  'Duccio di Buoninsegna': 1,\n  'Guido Cagnacci': 1,\n  'Bergognone (Ambrogio di Stefano da Fossano)': 2},\n 'Daniel Wildenstein': {'Bartolomeo di Giovanni': 1},\n 'The Charles Engelhard Foundation': {'Pompeo Batoni': 1},\n 'Robert Lehman Foundation Inc.': {'Pompeo Batoni': 1},\n 'Mrs. Haebler Frantz': {'Pompeo Batoni': 1},\n 'April R. Axton': {'Pompeo Batoni': 1},\n 'L. H. P. Klotz': {'Pompeo Batoni': 1},\n 'David Mortimer': {'Pompeo Batoni': 1},\n 'Mr. and Mrs. Charles Wrightsman': {'Pompeo Batoni': 1,\n  'Paris Bordon': 1,\n  'Domenichino (Domenico Zampieri)': 1,\n  'Luca Giordano': 1,\n  'Guido Reni': 1,\n  'Giovanni Domenico Tiepolo': 1,\n  'Guercino (Giovanni Francesco Barbieri)': 2,\n  'Giovanni Battista Tiepolo': 3},\n 'J. Pierpont Morgan': {'Pompeo Batoni': 1,\n  'Giovanni Bellini': 1,\n  \"Biagio d'Antonio\": 1,\n  'Carlo Innocenzo Carloni': 1,\n  'Francesco Casanova': 1,\n  'Pietro Longhi (Pietro Falca)': 1,\n  'Jacopo di Arcangelo (called Jacopo del Sellaio)': 1,\n  'Mattia Preti (Il Cavalier Calabrese)': 1,\n  'Raphael (Raffaello Sanzio or Santi)': 1,\n  'Sebastiano del Piombo (Sebastiano Luciani)': 1,\n  'Tommaso Fiorentino (Tommaso di Stefano Lunetti)': 1,\n  'Guido Cagnacci': 1,\n  'Garofalo (Benvenuto Tisi da Garofalo)': 2},\n 'Millie Bruhl Fredrick': {'Pompeo Batoni': 1, 'Lavinia Fontana': 1},\n 'Mary Clark Thompson': {'Pompeo Batoni': 1},\n 'Theodore M. Davis Collection': {'Giovanni Bellini': 1,\n  'Boccaccio Boccaccino': 1,\n  'Catena (Vincenzo di Biagio)': 1,\n  'Vincenzo Foppa': 1,\n  'Gentile da Fabriano (Gentile di Niccolò di Giovanni di Massio)': 1,\n  'Master of the Lanckoronski Annunciation': 1,\n  \"L'Ortolano (Giovanni Battista Benvenuti)\": 1,\n  'Carlo Saraceni': 1,\n  'Cosmè Tura (Cosimo di Domenico di Bonaventura)': 1,\n  'Francesco Zaganelli (Francesco di Bosio)': 1,\n  'Giovanni Battista Moroni': 2,\n  'Martino di Bartolommeo di Biagio': 4},\n 'Theodore M. Davis': {'Giovanni Bellini': 1,\n  'Boccaccio Boccaccino': 1,\n  'Catena (Vincenzo di Biagio)': 1,\n  'Vincenzo Foppa': 1,\n  'Gentile da Fabriano (Gentile di Niccolò di Giovanni di Massio)': 1,\n  'Master of the Lanckoronski Annunciation': 1,\n  \"L'Ortolano (Giovanni Battista Benvenuti)\": 1,\n  'Carlo Saraceni': 1,\n  'Cosmè Tura (Cosimo di Domenico di Bonaventura)': 1,\n  'Francesco Zaganelli (Francesco di Bosio)': 1,\n  'Giovanni Benedetto Castiglione (Il Grechetto)': 1,\n  'Giovanni Battista Moroni': 2,\n  'Martino di Bartolommeo di Biagio': 4},\n 'The Jules Bache Collection': {'Botticelli': 1,\n  'Carlo Crivelli': 1,\n  'Domenico Ghirlandaio (Domenico Bigordi)': 1,\n  'Girolamo da Cremona': 1,\n  'Jacometto (Jacometto Veneziano)': 1,\n  'Filippino Lippi': 1,\n  'Fra Filippo Lippi': 1,\n  'Andrea Mantegna': 1,\n  'Master of the Castello Nativity': 1,\n  'Raphael': 1,\n  \"Luca Signorelli (Luca d'Egidio di Luca di Ventura)\": 1,\n  'Cosmè Tura (Cosimo di Domenico di Bonaventura)': 1,\n  'Giovanni Bellini': 2,\n  'Titian (Tiziano Vecellio)': 2},\n 'Irma N. Straus': {'Jacopo Bellini': 1,\n  'Berlinghiero': 1,\n  'Master of the Magdalen': 1,\n  'Lippo Memmi (Filippo di Memmo)': 1,\n  'Pacino di Bonaguida': 1,\n  'Sano di Pietro (Ansano di Pietro di Mencio)': 2},\n 'Wrightsman Fund': {'Bernardo Bellotto': 1,\n  'Giovanni di ser Giovanni Guidi (called Scheggia)': 1,\n  'Pier Francesco Mola': 1,\n  'Marcantonio Franceschini': 1},\n 'Joseph Pulitzer': {'Bernardo Bellotto': 1,\n  'Giovanni Battista Moroni': 1,\n  'Luca Signorelli': 1,\n  'Duccio di Buoninsegna': 1},\n 'Coudert Brothers': {'Bicci di Lorenzo': 1,\n  'Giovanni di Paolo (Giovanni di Paolo di Grazia)': 1,\n  'Guariento di Arpo': 1,\n  'Lippo Memmi (Filippo di Memmo)': 1,\n  'Giovanni Benedetto Castiglione (Il Grechetto)': 1},\n 'Francis Kleinberger': {'Bicci di Lorenzo': 1},\n 'Catharine Lorillard Wolfe Collection': {'Giovanni Boldini': 1},\n 'Catharine Lorillard Wolfe': {'Giovanni Boldini': 1},\n 'Mrs. Edward C. Moën': {'Giovanni Boldini': 1},\n 'Consuelo Vanderbilt Balsan': {'Giovanni Boldini': 1},\n 'Martha T. Fiske Collord': {'Giovanni Boldini': 1, 'Alberto Pasini': 1},\n 'Mr. and Mrs. Edwin L. Weisl Jr.': {\"Bonifacio de' Pitati (Bonifacio Veronese)\": 1},\n 'Humanities Fund Inc.': {'Domenico Bossi': 1},\n 'Mr. and Mrs. Edward A. Friedman': {'Giuseppe Bottani': 1},\n 'John Stewart Kennedy Fund': {'Botticelli (Alessandro di Mariano Filipepi)': 1,\n  'Bramantino (Bartolomeo Suardi)': 1,\n  'Vittore Carpaccio': 1,\n  'Correggio (Antonio Allegri)': 1,\n  'Carlo Crivelli': 1,\n  'Giotto di Bondone': 1,\n  'Filippino Lippi': 1,\n  'Moretto da Brescia (Alessandro Bonvicino)': 1,\n  'Giovanni Domenico Tiepolo': 1,\n  'Jacopo Tintoretto (Jacopo Robusti)': 1,\n  'Paolo Veronese (Paolo Caliari)': 1},\n 'H. O. Havemeyer Collection': {'Botticelli': 1,\n  'Bronzino (Agnolo di Cosimo di Mariano)': 1,\n  'Francesco Montemezzano': 1,\n  'Gaspare Traversi|Goya': 1,\n  'Paolo Veronese (Paolo Caliari)': 1},\n 'Mrs. H. O. Havemeyer': {'Botticelli': 1,\n  'Bronzino (Agnolo di Cosimo di Mariano)': 1,\n  'Francesco Montemezzano': 1,\n  'Gaspare Traversi|Goya': 1,\n  'Paolo Veronese (Paolo Caliari)': 1},\n 'George R. Hann': {'Francesco Botticini (Francesco di Giovanni)': 1,\n  'Francesco Francia': 1},\n 'Harris Brisbane Dick Fund': {'Francesco Botticini (Francesco di Giovanni)': 1,\n  'Francesco Granacci (Francesco di Andrea di Marco)': 1,\n  'Francesco Granacci': 1,\n  'Ludovico Carracci': 1,\n  'Duccio di Buoninsegna': 1,\n  'Segna di Buonaventura': 3},\n 'Edward Fowles': {'Giuliano di Piero di Simone Bugiardini': 1,\n  'Italian (Florentine or Sienese) Painter': 1,\n  'North Italian Painter': 1,\n  'Paolo Veneziano': 1},\n 'Paul Ganz': {'Francesco Cairo': 1},\n 'Edith Neuman de Végvár': {'Bernardino Campi': 1},\n 'Mrs. Charles Wrightsman': {'Lorenzo Lotto': 1,\n  'Baldassare Tommaso Peruzzi': 1,\n  'Giovanni Domenico Tiepolo': 1,\n  'Francesco Guardi': 2,\n  'Giovanni Battista Tiepolo': 2,\n  'Canaletto (Giovanni Antonio Canal)': 7},\n 'The Collection of Giovanni P. Morosini': {'F. Carbonara': 1,\n  'Master of Charles of Durazzo': 1},\n 'Collis P. Huntington': {'Annibale Carracci': 1,\n  'Giovanni Battista Gigola': 1,\n  'Alberto Pasini': 1},\n 'Ogden Mills': {'Annibale Carracci': 1},\n 'Miss Adelaide Milton de Groot (1876-1967)': {'Annibale Carracci': 1,\n  'Giovanni Battista Piazzetta': 1},\n 'Dr. and Mrs. Manuel Porter and sons': {'Annibale Carracci': 1},\n 'Mrs. Charles S. Payson': {'Catena (Vincenzo di Biagio)': 1},\n 'Jean Fowles': {'Cenni di Francesco di Ser Cenni': 1,\n  'Giovanni Benedetto Castiglione (Il Grechetto)': 1},\n 'Maria DeWitt Jesup Fund': {'Giacomo Ceruti': 1,\n  'Dosso Dossi (Giovanni de Lutero)': 1,\n  \"Andrea del Sarto (Andrea d'Agnolo)\": 1},\n 'Mario Modestini': {'Giuseppe Bartolomeo Chiari': 1},\n 'Frederick C. Hewitt Fund': {'Guidoccio di Giovanni Cozzarelli': 1,\n  'Perugino (Pietro di Cristoforo Vannucci)': 1,\n  'Pietro Longhi (Pietro Falca)': 2},\n 'Harriet H. Jonas': {'Bernardo Daddi': 1},\n 'Maitland F. Griggs Collection': {'Liberale da Verona': 1,\n  'Fra Filippo Lippi': 1,\n  'Maso di Banco': 1,\n  'Fra Angelico (Guido di Pietro)': 1,\n  'Lippo Memmi (Filippo di Memmo)': 1,\n  'Michelino da Besozzo (Michelino de Mulinari)': 1,\n  'Sassetta (Stefano di Giovanni)': 1,\n  'Bernardo Daddi': 2,\n  'Simone Martini': 4},\n 'Maitland F. Griggs': {'Liberale da Verona': 1,\n  'Fra Filippo Lippi': 1,\n  'Maso di Banco': 1,\n  'Fra Angelico (Guido di Pietro)': 1,\n  'Lippo Memmi (Filippo di Memmo)': 1,\n  'Michelino da Besozzo (Michelino de Mulinari)': 1,\n  'Sassetta (Stefano di Giovanni)': 1,\n  'Bernardo Daddi': 2,\n  'Simone Martini': 4},\n 'Mr. and Mrs. Ralph Friedman': {'Cesare Dandini': 1},\n 'Robert Lehman': {'Giovanni di Tano Fei': 1,\n  'Lippo di Benivieni': 1,\n  'Master of Varlungo': 1,\n  'Matteo di Giovanni di Bartolo': 1,\n  'Jacopo Palma the Younger': 1,\n  'Bartolomeo Vivarini': 1},\n 'Marquand Fund': {'Francesco di Giorgio Martini': 1,\n  'Goodhart Ducciesque Master': 1,\n  'Domenico Guidobono': 1,\n  'Lorenzo Monaco (Piero di Giovanni)': 1,\n  'Mattia Preti (Il Cavalier Calabrese)': 1,\n  'Giovanni Gerolamo Savoldo': 1,\n  'Ludovico Carracci': 1,\n  'Rosalba Carriera': 1,\n  'Domenichino (Domenico Zampieri)': 1,\n  \"Stefano da Verona (Stefano di Giovanni d'Arbosio di Francia)\": 1},\n 'D.C. Samuel H. Kress Collection': {'Francesco di Giorgio Martini': 1},\n 'Lewis C. Ledyard III': {'Francesco Francia': 1},\n 'Mrs. Victor Onet': {'Francesco Francia': 1},\n 'Mrs. T. F. Turner': {'Francesco Francia': 1},\n 'Elinor Dorrance Ingersoll': {'Artemisia Gentileschi': 1},\n 'Francis L. Leland Fund': {'Jacopo Tintoretto (Jacopo Robusti)': 1,\n  'Davide Ghirlandaio (David Bigordi)': 3},\n 'Cornelius Vanderbilt': {'Domenico Ghirlandaio (Domenico Bigordi)': 1,\n  'Aurelio Lomi': 1},\n 'Mrs. W. Murray Crane': {'Italian (Florentine) Painter': 1,\n  'Pietro da Rimini': 1,\n  'Francescuccio Ghissi (Francesco di Cecco Ghissi)': 3},\n 'Mr. and Mrs. Frank E. Richardson': {'Giampietrino (Giovanni Pietro Rizzoli)': 1,\n  'Giovanni di ser Giovanni Guidi (called Scheggia)': 1},\n 'Mr. and Mrs. Harold Morton Landon': {'Luca Giordano': 1},\n 'The Vincent Astor Foundation': {'Giovanni di ser Giovanni Guidi (called Scheggia)': 1},\n 'Annette de la Renta': {'Giovanni di ser Giovanni Guidi (called Scheggia)': 1,\n  'Duccio di Buoninsegna': 1,\n  \"Francesco Salviati (Francesco de' Rossi)\": 1},\n 'Drue Heinz Foundation': {'Giovanni di ser Giovanni Guidi (called Scheggia)': 1},\n 'The Annenberg Foundation': {'Giovanni di ser Giovanni Guidi (called Scheggia)': 1,\n  'Ludovico Carracci': 1},\n 'the children of Mrs. Harry Payne Whitney': {'Giovanni di ser Giovanni Guidi (called Scheggia)': 1},\n 'Mr. and Mrs. Joshua Logan': {'Giovanni di ser Giovanni Guidi (called Scheggia)': 1},\n 'Harry G. Sperling': {'Benozzo Gozzoli (Benozzo di Lese di Sandro)': 1,\n  'Jacopino del Conte': 1,\n  'Gaspare Traversi': 1},\n 'Dodge Fund': {'Francesco Granacci (Francesco di Andrea di Marco)': 1,\n  'Francesco Granacci': 1,\n  'Duccio di Buoninsegna': 1},\n 'Ella Morris de Peyster': {'Francesco Granacci (Francesco di Andrea di Marco)': 1,\n  'Francesco Granacci': 1},\n 'Mrs. Donald Oenslager': {'Francesco Granacci (Francesco di Andrea di Marco)': 1,\n  'Francesco Granacci': 1},\n 'Julia A. Berwind': {'Francesco Guardi': 2},\n 'Adele L. Lehman': {'Francesco Guardi': 1,\n  'Master G.Z. (possibly Michele dai Carri, Italian, Ferrara, active by 1405–died 1441 Ferrara)': 1,\n  'Sano di Pietro (Ansano di Pietro di Mencio)': 1,\n  'Segna di Buonaventura': 1,\n  'Antonio Vivarini': 1,\n  'Bartolomeo Vivarini': 1,\n  'Giovanni Benedetto Castiglione (Il Grechetto)': 1},\n 'Mary Stillman Harkness': {'Francesco Guardi': 1,\n  'Pesellino (Francesco di Stefano)': 1},\n 'R. A. Farnsworth': {'Domenico Guidobono': 1},\n 'Victor Wilbour Memorial Fund': {'Domenico Guidobono': 1,\n  'Italian (Venetian) Painter': 1,\n  'Mattia Preti (Il Cavalier Calabrese)': 1,\n  'Guido Reni': 1,\n  'Ludovico Carracci': 1,\n  'Rosalba Carriera': 1,\n  \"Stefano da Verona (Stefano di Giovanni d'Arbosio di Francia)\": 1},\n 'The Alfred N. Punnett Endowment Fund': {'Domenico Guidobono': 1,\n  'Mattia Preti (Il Cavalier Calabrese)': 1,\n  'Ludovico Carracci': 1,\n  \"Stefano da Verona (Stefano di Giovanni d'Arbosio di Francia)\": 1},\n 'Charles B. Curtis Fund': {'Domenico Guidobono': 1,\n  'Salvator Rosa': 1,\n  'Ludovico Carracci': 1},\n 'James L. Loeb': {\"Nicola di Maestro Antonio d'Ancona\": 1},\n 'Georges Brauer': {'Italian (Florentine) Painter': 1},\n 'Colonel C. Michael Paul': {'Italian (Florentine) Painter': 1},\n 'Katherine S. Dreier': {'Italian (Florentine) Painter': 1},\n 'Marquand Collection': {'Italian (Lombard) Painter': 1,\n  'Fra Filippo Lippi': 1,\n  \"Marco d'Oggiono\": 1},\n 'Henry G. Marquand': {'Italian (Lombard) Painter': 1,\n  'Fra Filippo Lippi': 1,\n  \"Marco d'Oggiono\": 1},\n 'Mary Cushing Fosburgh': {'Italian (Umbrian) Painter': 1},\n 'Rodman Wanamaker': {'Italian (Umbrian) Painter': 1},\n 'Clarence Dillon': {'Daniele da Volterra': 1},\n 'Alice Bradford Woolsey': {'Antonio Joli': 1},\n 'Eric Seiler': {'Jacopo Ligozzi': 1},\n 'Darcy Bradbury': {'Jacopo Ligozzi': 1},\n 'Edward A. and Karen S. W. Friedman': {'Jacopo Ligozzi': 1},\n 'Donald S. Klopfer': {'Filippino Lippi': 1},\n 'Samuel H. Kress': {'Pietro Longhi (Pietro Falca)': 1,\n  'Master of the Orcagnesque Misericordia': 1},\n 'Richard De Wolfe Brixey': {\"Lorenzo di Credi (Lorenzo d'Andrea d'Oderigo)\": 1},\n 'G. Louise Robinson': {'Lorenzo Monaco (Piero di Giovanni)': 1},\n 'Mrs. Ralph J. Hines': {'Lorenzo Monaco (Piero di Giovanni)': 1},\n 'Mabel Choate': {'Lorenzo Monaco (Piero di Giovanni)': 1},\n 'Paul Peralta Ramos': {'Lorenzo Monaco (Piero di Giovanni)': 1},\n 'Administration Fund': {'Luca di Tommè di Nuto': 1},\n 'Katherine D. W. Glover': {'Alessandro Magnasco': 1},\n 'Kretschmar Fund': {'Giovanni Maldura': 1},\n 'Elizabeth U. Coles': {'Antonio Mancini': 1},\n 'Anonymous': {'Andrea Mantegna': 1,\n  'Scipione Pulzone (Il Gaetano)': 1,\n  'Girolamo Romanino': 1},\n 'Gloria Zicht': {'Luigi Marta': 1},\n 'The Jack and Belle Linsky Foundation': {'Master of the Orcagnesque Misericordia': 1,\n  'Perugino (Pietro di Cristoforo Vannucci)': 1},\n 'Mrs. Ridgely Hunt': {\"Neroccio de' Landi\": 1},\n 'Alice Borland Wilson': {'Bernardino Detti': 1},\n 'James S. Deely': {'Girolamo Mazzola Bedoli': 1},\n 'Mr. and Mrs. Eugene Victor Thaw': {'Giovanni Antonio Pellegrini': 1},\n 'Robert Gordon': {\"Piero di Cosimo (Piero di Lorenzo di Piero d'Antonio)\": 2},\n 'Edward S. Harkness': {'Piero del Pollaiuolo (Piero di Jacopo Benci)': 1,\n  'Cosimo Rosselli': 1},\n 'Helena W. Charlton': {'Mattia Preti (Il Cavalier Calabrese)': 1},\n 'Enid A. Haupt': {'Giulio Cesare Procaccini': 1, 'Andrea Sacchi': 1},\n 'Jane L. Melville': {'Sebastiano Ricci': 1},\n 'Mr. and Mrs. Piero Corsini': {'Sebastiano Ricci': 1},\n 'Mary L. Harrison': {'Salvator Rosa': 1},\n 'Mr. and Mrs. Nate B. Spingold': {\"Francesco Salviati (Francesco de' Rossi)\": 1},\n 'Mary V. T. Eberstadt': {'Andrea Schiavone (Andrea Meldola)': 1},\n 'Josephine Bieber': {'Sebastiano del Piombo': 1},\n 'the Collection of James Stillman': {'Andrea Solario': 1},\n 'Dr. Ernest G. Stillman': {'Andrea Solario': 1},\n 'the family of Francis M. Bacon': {'Spinello Aretino (Spinello di Luca Spinelli)': 1},\n 'Edward W. Carter': {'Massimo Stanzione': 1},\n 'Mary Wetmore Shively': {'Bernardo Strozzi': 1},\n 'Eula M. Ganz': {'Pietro Testa': 1},\n 'Grace Rainey Rogers': {'Girolamo Mengozzi (called Colonna)|Giovanni Battista Tiepolo': 4,\n  'Giovanni Domenico Tiepolo': 4,\n  'Giovanni Battista Tiepolo': 5},\n 'Munsey Fund': {'Titian': 2},\n 'Bernard M. Baruch': {'Francesco Zuccarelli': 1},\n 'Asbjorn R. Lunde': {'Sodoma (Giovanni Antonio Bazzi)': 1,\n  'Bernardo Daddi': 1},\n 'Herman and Lila Shickman': {'Caravaggio (Michelangelo Merisi)': 1},\n 'Lila Acheson Wallace': {'Caravaggio (Michelangelo Merisi)': 1,\n  'Ludovico Carracci': 1,\n  'Pietro Lorenzetti': 1,\n  'Federico Barocci': 1,\n  'Duccio di Buoninsegna': 1,\n  'Giovanni Benedetto Castiglione (Il Grechetto)': 1,\n  'Guido Cagnacci': 1},\n 'Lore Heinemann': {'Taddeo Gaddi': 1,\n  'Paolo Uccello (Paolo di Dono)': 1,\n  'Giovanni di Paolo (Giovanni di Paolo di Grazia)': 2,\n  'Francesco Guardi': 2,\n  'Giovanni Battista Tiepolo': 2},\n 'Jules Fisher': {'Santi di Tito': 1},\n 'Friends of European Paintings': {'Santi di Tito': 1,\n  'Francesco Granacci (Francesco di Andrea di Marco)': 1,\n  'Perino del Vaga (Pietro Buonaccorsi)': 1,\n  'Ubaldo Gandolfi': 1,\n  'Guido Cagnacci': 1,\n  'Giovanni Battista Gaulli (Il Baciccio)': 1},\n 'Dianne Modestini': {'Domenico Fetti': 1, 'Giovanni Battista Piazzetta': 1},\n 'Edwin L. Weisl Jr.': {'Annibale Carracci': 1},\n 'Mary Jane Harris': {'Scarsellino (Ippolito Scarsella)': 1},\n 'Francesca Rospigliosi': {'Bianca Boni': 1},\n 'Jon and Barbara Landau': {'Ludovico Carracci': 1,\n  'Perino del Vaga (Pietro Buonaccorsi)': 1},\n 'Mr. and Mrs. Mark Fisch': {'Corrado Giaquinto': 1,\n  'Domenichino (Domenico Zampieri)': 1,\n  'Jacopo Bassano (Jacopo da Ponte)': 1,\n  'Perino del Vaga (Pietro Buonaccorsi)': 1,\n  'Ludovico Carracci': 2},\n 'Pat and John Rosenwald': {'Ludovico Carracci': 1},\n 'Gwynne Andrews Funds': {'Ludovico Carracci': 1},\n 'Mortimer D. Sackler': {'Ludovico Carracci': 1},\n 'Theresa Sackler and Family Fund': {'Ludovico Carracci': 1},\n 'Mario and Dianne Modestini': {'Francesco Granacci (Francesco di Andrea di Marco)': 1},\n 'Nancy': {'Francesco Granacci (Francesco di Andrea di Marco)': 1},\n 'Carolina': {'Francesco Granacci (Francesco di Andrea di Marco)': 1},\n 'Isabelle Richardson': {'Francesco Granacci (Francesco di Andrea di Marco)': 1},\n 'George Delacorte Fund': {'Rosalba Carriera': 1, 'Carlo Dolci': 1},\n '2002 Benefit Fund': {'Federico Barocci': 1},\n 'Richard L. Feigen': {'Carlo Saraceni': 1},\n 'Walter and Leonore Annenberg and The Annenberg Foundation': {'Duccio di Buoninsegna': 1},\n 'Louis V. Bell Fund': {'Duccio di Buoninsegna': 1},\n \"several members of The Chairman's Council\": {'Duccio di Buoninsegna': 1},\n 'Elaine L. Rosenberg': {'Duccio di Buoninsegna': 1},\n 'Stephenson Family Foundation': {'Duccio di Buoninsegna': 1,\n  'Domenichino (Domenico Zampieri)': 1},\n '2003 Benefit Fund': {'Duccio di Buoninsegna': 1},\n 'Lawrence and Julie Salander': {'Bruno Marzi': 1, 'Umberto Giunti': 1},\n 'Fabrizio Moretti': {'Annibale Carracci': 1,\n  'Giovanni Battista Gaulli (Il Baciccio)': 1,\n  'Giacomo Ceruti': 1},\n 'Adam Williams': {'Annibale Carracci': 1},\n 'Melissa O. Aronson': {'Mattia Preti (Il Cavalier Calabrese)': 1},\n 'Walter and Leonore Annenberg Acquisitions Endowment Fund': {'Domenichino (Domenico Zampieri)': 1,\n  \"Francesco Salviati (Francesco de' Rossi)\": 1},\n 'The Reed Foundation': {'Domenichino (Domenico Zampieri)': 1},\n 'Elaine Rosenberg': {'Domenichino (Domenico Zampieri)': 1},\n 'Edward J. Gallagher Jr.': {'Domenichino (Domenico Zampieri)': 1},\n 'Museum Purchase Fund': {'Domenichino (Domenico Zampieri)': 1},\n 'Peter Tcherepnine': {'Domenichino (Domenico Zampieri)': 1},\n 'The Camille M. Lownds Fund': {'Domenichino (Domenico Zampieri)': 1},\n 'Ruth and Victoria Blumka Fund': {'Domenichino (Domenico Zampieri)': 1},\n 'Earl Kiely': {'Domenichino (Domenico Zampieri)': 1},\n '2005 CINOA Prize and Diane Carol Brandt': {'Domenichino (Domenico Zampieri)': 1},\n 'The Morse G. Dial Foundation': {'Domenichino (Domenico Zampieri)': 1},\n 'Thaw Collection': {'Agostino Tassi': 1,\n  'Pier Francesco Mola': 1,\n  'Giovanni Battista Camuccini': 3},\n 'Eugene V. Thaw': {'Agostino Tassi': 1,\n  'Pier Francesco Mola': 1,\n  'Giovanni Battista Piazzetta': 1,\n  'Giovanni Battista Camuccini': 3},\n 'Charles and Jessie Price': {'Gaetano Gandolfi': 1,\n  'Perino del Vaga (Pietro Buonaccorsi)': 1,\n  'Guido Cagnacci': 1,\n  \"Stefano da Verona (Stefano di Giovanni d'Arbosio di Francia)\": 1},\n 'Stephen Mazoh': {'Gaetano Gandolfi': 1, 'Francesco Trevisani': 1},\n 'Brian J. Brille': {'Filippo Tarchiani': 1},\n 'Marco Voena': {'Orazio Borgianni': 1},\n 'Luigi Koelliker': {'Orazio Borgianni': 1},\n 'Anne Cox Chambers': {'Michele Gordigiani': 1},\n 'Acquisitions Fund': {'Perino del Vaga (Pietro Buonaccorsi)': 1},\n 'Denise and Andrew Saul': {'Perino del Vaga (Pietro Buonaccorsi)': 1},\n 'Fern and George Wachter': {'Perino del Vaga (Pietro Buonaccorsi)': 1},\n 'Hester Diamond': {'Perino del Vaga (Pietro Buonaccorsi)': 1},\n 'Mr. and Mrs. J. Tomilson Hill': {'Perino del Vaga (Pietro Buonaccorsi)': 1},\n 'Anna Mont': {'Francesco Maffei': 1, 'Carlo Francesco Nuvolone': 1},\n 'University Place Foundation': {'Corrado Giaquinto': 1},\n 'Damon Mezzacappa': {'Ottavio Leoni (Il Padovano)': 1},\n 'Álvaro Saieh Bendeck': {'Giovanni Battista Gaulli (Il Baciccio)': 1,\n  'Guido Cagnacci': 1,\n  \"Stefano da Verona (Stefano di Giovanni d'Arbosio di Francia)\": 1},\n 'Jean-Luc Baroni': {'Giovanni Battista Gaulli (Il Baciccio)': 1},\n 'Helen Hay Whitney': {'Giovanni Benedetto Castiglione (Il Grechetto)': 1},\n 'Harry Payne Bingham Jr.': {'Giovanni Benedetto Castiglione (Il Grechetto)': 1},\n 'Patrick Matthiesen and The Matthiesen Gallery': {'Ludovico Mazzolino': 1},\n 'Diane Burke': {'Guido Cagnacci': 1},\n 'Michel David-Weill': {'Guido Cagnacci': 1},\n 'Dinko Podrug': {'Antoniazzo Romano (Antonio di Benedetto Aquilio)': 1},\n 'Nena Ilic-Podrug': {'Antoniazzo Romano (Antonio di Benedetto Aquilio)': 1},\n 'Iva Podrug': {'Antoniazzo Romano (Antonio di Benedetto Aquilio)': 1},\n 'Claire and Giovanni Sarti': {'Bartolomeo Cavarozzi': 1},\n 'Mr. and Mrs. Frederick W. Beinecke': {'Carlo Dolci': 1},\n 'Mr. and Mrs. Richard L. Chilton Jr.': {'Carlo Dolci': 1},\n 'Ronald S. Lauder': {'Carlo Dolci': 1,\n  \"Francesco Salviati (Francesco de' Rossi)\": 1},\n 'in memory of George T. Delacorte Jr.': {'Carlo Dolci': 1},\n 'The Morris': {'Giovanni Battista Caracciolo': 1},\n 'Alma Schapiro Fund': {'Giovanni Battista Caracciolo': 1},\n 'Everett Fahy': {'Placido Costanzi': 1},\n 'The Morris and Alma Schapiro Fund': {\"Francesco Salviati (Francesco de' Rossi)\": 1},\n 'Alejandro Santo Domingo': {\"Francesco Salviati (Francesco de' Rossi)\": 1},\n 'David and Julie Tobey': {\"Francesco Salviati (Francesco de' Rossi)\": 1},\n 'Brownstein Family Foundation': {\"Francesco Salviati (Francesco de' Rossi)\": 1},\n 'Beatrice Stern': {\"Francesco Salviati (Francesco de' Rossi)\": 1},\n 'Maurizio and Dominique Canesso': {'Girolamo da Carpi (Girolamo Sellari)': 1},\n 'Philippe de Montebello Fund': {\"Stefano da Verona (Stefano di Giovanni d'Arbosio di Francia)\": 1},\n 'Mrs. William M. Haupt': {\"Stefano da Verona (Stefano di Giovanni d'Arbosio di Francia)\": 1},\n 'Lillian S. Timken': {\"Stefano da Verona (Stefano di Giovanni d'Arbosio di Francia)\": 1},\n 'Forsyth Wickes': {\"Stefano da Verona (Stefano di Giovanni d'Arbosio di Francia)\": 1},\n 'the Eugene V. and Clare E. Thaw Charitable Trust': {'Canaletto (Giovanni Antonio Canal)': 1},\n 'Errol M. Rudman': {'Panfilo Nuvolone': 1,\n  'Giuseppe Ruoppolo': 1,\n  'Alessandro Turchi': 1,\n  'Giovanni Benedetto Castiglione (Il Grechetto)': 1,\n  'Bartolomeo Cavarozzi|Master of the Acquavella Still Life': 1,\n  'Carlo Maratti': 1,\n  'Carlo Cignani': 1,\n  'Orsola Maddalena Caccia': 3},\n 'Alan M. May': {'Pier Francesco Mola': 1}}"
     },
     "execution_count": 36,
     "metadata": {},
     "output_type": "execute_result"
    }
   ],
   "source": [
    "art_dealers_dict"
   ]
  },
  {
   "cell_type": "markdown",
   "id": "5adcd193",
   "metadata": {},
   "source": [
    " "
   ]
  },
  {
   "cell_type": "code",
   "execution_count": 37,
   "id": "1978f72a",
   "metadata": {},
   "outputs": [
    {
     "data": {
      "text/plain": "{'Rudolph and Lentilhon G. von Fluegge Foundation Inc.': 'Jacopo Amigoni',\n 'Rogers Fund': 'Giovanni Battista Tiepolo',\n 'Helen O. Brice': 'Giacomo Andreoli',\n 'Lucy G. Moses': 'Taddeo di Bartolo',\n 'Benjamin Altman': 'Titian (Tiziano Vecellio)',\n 'May Dougherty King': 'Zanobi Strozzi',\n 'The Friedsam Collection': 'Giovanni di Paolo (Giovanni di Paolo di Grazia)',\n 'Michael Friedsam': 'Giovanni di Paolo (Giovanni di Paolo di Grazia)',\n 'George Blumenthal': 'Bernardo Daddi',\n 'Gwynne Andrews Fund': 'Lorenzo Monaco (Piero di Giovanni)',\n 'The Jack and Belle Linsky Collection': 'Francesco Guardi',\n 'Samuel H. Kress Foundation': 'Antonio Vivarini',\n 'Michael Dreicer': 'Pietro di Francesco Orioli',\n 'Fletcher Fund': 'Bergognone (Ambrogio di Stefano da Fossano)',\n 'Daniel Wildenstein': 'Bartolomeo di Giovanni',\n 'The Charles Engelhard Foundation': 'Pompeo Batoni',\n 'Robert Lehman Foundation Inc.': 'Pompeo Batoni',\n 'Mrs. Haebler Frantz': 'Pompeo Batoni',\n 'April R. Axton': 'Pompeo Batoni',\n 'L. H. P. Klotz': 'Pompeo Batoni',\n 'David Mortimer': 'Pompeo Batoni',\n 'Mr. and Mrs. Charles Wrightsman': 'Giovanni Battista Tiepolo',\n 'J. Pierpont Morgan': 'Garofalo (Benvenuto Tisi da Garofalo)',\n 'Millie Bruhl Fredrick': 'Lavinia Fontana',\n 'Mary Clark Thompson': 'Pompeo Batoni',\n 'Theodore M. Davis Collection': 'Martino di Bartolommeo di Biagio',\n 'Theodore M. Davis': 'Martino di Bartolommeo di Biagio',\n 'The Jules Bache Collection': 'Titian (Tiziano Vecellio)',\n 'Irma N. Straus': 'Sano di Pietro (Ansano di Pietro di Mencio)',\n 'Wrightsman Fund': 'Marcantonio Franceschini',\n 'Joseph Pulitzer': 'Duccio di Buoninsegna',\n 'Coudert Brothers': 'Giovanni Benedetto Castiglione (Il Grechetto)',\n 'Francis Kleinberger': 'Bicci di Lorenzo',\n 'Catharine Lorillard Wolfe Collection': 'Giovanni Boldini',\n 'Catharine Lorillard Wolfe': 'Giovanni Boldini',\n 'Mrs. Edward C. Moën': 'Giovanni Boldini',\n 'Consuelo Vanderbilt Balsan': 'Giovanni Boldini',\n 'Martha T. Fiske Collord': 'Alberto Pasini',\n 'Mr. and Mrs. Edwin L. Weisl Jr.': \"Bonifacio de' Pitati (Bonifacio Veronese)\",\n 'Humanities Fund Inc.': 'Domenico Bossi',\n 'Mr. and Mrs. Edward A. Friedman': 'Giuseppe Bottani',\n 'John Stewart Kennedy Fund': 'Paolo Veronese (Paolo Caliari)',\n 'H. O. Havemeyer Collection': 'Paolo Veronese (Paolo Caliari)',\n 'Mrs. H. O. Havemeyer': 'Paolo Veronese (Paolo Caliari)',\n 'George R. Hann': 'Francesco Francia',\n 'Harris Brisbane Dick Fund': 'Segna di Buonaventura',\n 'Edward Fowles': 'Paolo Veneziano',\n 'Paul Ganz': 'Francesco Cairo',\n 'Edith Neuman de Végvár': 'Bernardino Campi',\n 'Mrs. Charles Wrightsman': 'Canaletto (Giovanni Antonio Canal)',\n 'The Collection of Giovanni P. Morosini': 'Master of Charles of Durazzo',\n 'Collis P. Huntington': 'Alberto Pasini',\n 'Ogden Mills': 'Annibale Carracci',\n 'Miss Adelaide Milton de Groot (1876-1967)': 'Giovanni Battista Piazzetta',\n 'Dr. and Mrs. Manuel Porter and sons': 'Annibale Carracci',\n 'Mrs. Charles S. Payson': 'Catena (Vincenzo di Biagio)',\n 'Jean Fowles': 'Giovanni Benedetto Castiglione (Il Grechetto)',\n 'Maria DeWitt Jesup Fund': \"Andrea del Sarto (Andrea d'Agnolo)\",\n 'Mario Modestini': 'Giuseppe Bartolomeo Chiari',\n 'Frederick C. Hewitt Fund': 'Pietro Longhi (Pietro Falca)',\n 'Harriet H. Jonas': 'Bernardo Daddi',\n 'Maitland F. Griggs Collection': 'Simone Martini',\n 'Maitland F. Griggs': 'Simone Martini',\n 'Mr. and Mrs. Ralph Friedman': 'Cesare Dandini',\n 'Robert Lehman': 'Bartolomeo Vivarini',\n 'Marquand Fund': \"Stefano da Verona (Stefano di Giovanni d'Arbosio di Francia)\",\n 'D.C. Samuel H. Kress Collection': 'Francesco di Giorgio Martini',\n 'Lewis C. Ledyard III': 'Francesco Francia',\n 'Mrs. Victor Onet': 'Francesco Francia',\n 'Mrs. T. F. Turner': 'Francesco Francia',\n 'Elinor Dorrance Ingersoll': 'Artemisia Gentileschi',\n 'Francis L. Leland Fund': 'Davide Ghirlandaio (David Bigordi)',\n 'Cornelius Vanderbilt': 'Aurelio Lomi',\n 'Mrs. W. Murray Crane': 'Francescuccio Ghissi (Francesco di Cecco Ghissi)',\n 'Mr. and Mrs. Frank E. Richardson': 'Giovanni di ser Giovanni Guidi (called Scheggia)',\n 'Mr. and Mrs. Harold Morton Landon': 'Luca Giordano',\n 'The Vincent Astor Foundation': 'Giovanni di ser Giovanni Guidi (called Scheggia)',\n 'Annette de la Renta': \"Francesco Salviati (Francesco de' Rossi)\",\n 'Drue Heinz Foundation': 'Giovanni di ser Giovanni Guidi (called Scheggia)',\n 'The Annenberg Foundation': 'Ludovico Carracci',\n 'the children of Mrs. Harry Payne Whitney': 'Giovanni di ser Giovanni Guidi (called Scheggia)',\n 'Mr. and Mrs. Joshua Logan': 'Giovanni di ser Giovanni Guidi (called Scheggia)',\n 'Harry G. Sperling': 'Gaspare Traversi',\n 'Dodge Fund': 'Duccio di Buoninsegna',\n 'Ella Morris de Peyster': 'Francesco Granacci',\n 'Mrs. Donald Oenslager': 'Francesco Granacci',\n 'Julia A. Berwind': 'Francesco Guardi',\n 'Adele L. Lehman': 'Giovanni Benedetto Castiglione (Il Grechetto)',\n 'Mary Stillman Harkness': 'Pesellino (Francesco di Stefano)',\n 'R. A. Farnsworth': 'Domenico Guidobono',\n 'Victor Wilbour Memorial Fund': \"Stefano da Verona (Stefano di Giovanni d'Arbosio di Francia)\",\n 'The Alfred N. Punnett Endowment Fund': \"Stefano da Verona (Stefano di Giovanni d'Arbosio di Francia)\",\n 'Charles B. Curtis Fund': 'Ludovico Carracci',\n 'James L. Loeb': \"Nicola di Maestro Antonio d'Ancona\",\n 'Georges Brauer': 'Italian (Florentine) Painter',\n 'Colonel C. Michael Paul': 'Italian (Florentine) Painter',\n 'Katherine S. Dreier': 'Italian (Florentine) Painter',\n 'Marquand Collection': \"Marco d'Oggiono\",\n 'Henry G. Marquand': \"Marco d'Oggiono\",\n 'Mary Cushing Fosburgh': 'Italian (Umbrian) Painter',\n 'Rodman Wanamaker': 'Italian (Umbrian) Painter',\n 'Clarence Dillon': 'Daniele da Volterra',\n 'Alice Bradford Woolsey': 'Antonio Joli',\n 'Eric Seiler': 'Jacopo Ligozzi',\n 'Darcy Bradbury': 'Jacopo Ligozzi',\n 'Edward A. and Karen S. W. Friedman': 'Jacopo Ligozzi',\n 'Donald S. Klopfer': 'Filippino Lippi',\n 'Samuel H. Kress': 'Master of the Orcagnesque Misericordia',\n 'Richard De Wolfe Brixey': \"Lorenzo di Credi (Lorenzo d'Andrea d'Oderigo)\",\n 'G. Louise Robinson': 'Lorenzo Monaco (Piero di Giovanni)',\n 'Mrs. Ralph J. Hines': 'Lorenzo Monaco (Piero di Giovanni)',\n 'Mabel Choate': 'Lorenzo Monaco (Piero di Giovanni)',\n 'Paul Peralta Ramos': 'Lorenzo Monaco (Piero di Giovanni)',\n 'Administration Fund': 'Luca di Tommè di Nuto',\n 'Katherine D. W. Glover': 'Alessandro Magnasco',\n 'Kretschmar Fund': 'Giovanni Maldura',\n 'Elizabeth U. Coles': 'Antonio Mancini',\n 'Anonymous': 'Girolamo Romanino',\n 'Gloria Zicht': 'Luigi Marta',\n 'The Jack and Belle Linsky Foundation': 'Perugino (Pietro di Cristoforo Vannucci)',\n 'Mrs. Ridgely Hunt': \"Neroccio de' Landi\",\n 'Alice Borland Wilson': 'Bernardino Detti',\n 'James S. Deely': 'Girolamo Mazzola Bedoli',\n 'Mr. and Mrs. Eugene Victor Thaw': 'Giovanni Antonio Pellegrini',\n 'Robert Gordon': \"Piero di Cosimo (Piero di Lorenzo di Piero d'Antonio)\",\n 'Edward S. Harkness': 'Cosimo Rosselli',\n 'Helena W. Charlton': 'Mattia Preti (Il Cavalier Calabrese)',\n 'Enid A. Haupt': 'Andrea Sacchi',\n 'Jane L. Melville': 'Sebastiano Ricci',\n 'Mr. and Mrs. Piero Corsini': 'Sebastiano Ricci',\n 'Mary L. Harrison': 'Salvator Rosa',\n 'Mr. and Mrs. Nate B. Spingold': \"Francesco Salviati (Francesco de' Rossi)\",\n 'Mary V. T. Eberstadt': 'Andrea Schiavone (Andrea Meldola)',\n 'Josephine Bieber': 'Sebastiano del Piombo',\n 'the Collection of James Stillman': 'Andrea Solario',\n 'Dr. Ernest G. Stillman': 'Andrea Solario',\n 'the family of Francis M. Bacon': 'Spinello Aretino (Spinello di Luca Spinelli)',\n 'Edward W. Carter': 'Massimo Stanzione',\n 'Mary Wetmore Shively': 'Bernardo Strozzi',\n 'Eula M. Ganz': 'Pietro Testa',\n 'Grace Rainey Rogers': 'Giovanni Battista Tiepolo',\n 'Munsey Fund': 'Titian',\n 'Bernard M. Baruch': 'Francesco Zuccarelli',\n 'Asbjorn R. Lunde': 'Bernardo Daddi',\n 'Herman and Lila Shickman': 'Caravaggio (Michelangelo Merisi)',\n 'Lila Acheson Wallace': 'Guido Cagnacci',\n 'Lore Heinemann': 'Giovanni Battista Tiepolo',\n 'Jules Fisher': 'Santi di Tito',\n 'Friends of European Paintings': 'Giovanni Battista Gaulli (Il Baciccio)',\n 'Dianne Modestini': 'Giovanni Battista Piazzetta',\n 'Edwin L. Weisl Jr.': 'Annibale Carracci',\n 'Mary Jane Harris': 'Scarsellino (Ippolito Scarsella)',\n 'Francesca Rospigliosi': 'Bianca Boni',\n 'Jon and Barbara Landau': 'Perino del Vaga (Pietro Buonaccorsi)',\n 'Mr. and Mrs. Mark Fisch': 'Ludovico Carracci',\n 'Pat and John Rosenwald': 'Ludovico Carracci',\n 'Gwynne Andrews Funds': 'Ludovico Carracci',\n 'Mortimer D. Sackler': 'Ludovico Carracci',\n 'Theresa Sackler and Family Fund': 'Ludovico Carracci',\n 'Mario and Dianne Modestini': 'Francesco Granacci (Francesco di Andrea di Marco)',\n 'Nancy': 'Francesco Granacci (Francesco di Andrea di Marco)',\n 'Carolina': 'Francesco Granacci (Francesco di Andrea di Marco)',\n 'Isabelle Richardson': 'Francesco Granacci (Francesco di Andrea di Marco)',\n 'George Delacorte Fund': 'Carlo Dolci',\n '2002 Benefit Fund': 'Federico Barocci',\n 'Richard L. Feigen': 'Carlo Saraceni',\n 'Walter and Leonore Annenberg and The Annenberg Foundation': 'Duccio di Buoninsegna',\n 'Louis V. Bell Fund': 'Duccio di Buoninsegna',\n \"several members of The Chairman's Council\": 'Duccio di Buoninsegna',\n 'Elaine L. Rosenberg': 'Duccio di Buoninsegna',\n 'Stephenson Family Foundation': 'Domenichino (Domenico Zampieri)',\n '2003 Benefit Fund': 'Duccio di Buoninsegna',\n 'Lawrence and Julie Salander': 'Umberto Giunti',\n 'Fabrizio Moretti': 'Giacomo Ceruti',\n 'Adam Williams': 'Annibale Carracci',\n 'Melissa O. Aronson': 'Mattia Preti (Il Cavalier Calabrese)',\n 'Walter and Leonore Annenberg Acquisitions Endowment Fund': \"Francesco Salviati (Francesco de' Rossi)\",\n 'The Reed Foundation': 'Domenichino (Domenico Zampieri)',\n 'Elaine Rosenberg': 'Domenichino (Domenico Zampieri)',\n 'Edward J. Gallagher Jr.': 'Domenichino (Domenico Zampieri)',\n 'Museum Purchase Fund': 'Domenichino (Domenico Zampieri)',\n 'Peter Tcherepnine': 'Domenichino (Domenico Zampieri)',\n 'The Camille M. Lownds Fund': 'Domenichino (Domenico Zampieri)',\n 'Ruth and Victoria Blumka Fund': 'Domenichino (Domenico Zampieri)',\n 'Earl Kiely': 'Domenichino (Domenico Zampieri)',\n '2005 CINOA Prize and Diane Carol Brandt': 'Domenichino (Domenico Zampieri)',\n 'The Morse G. Dial Foundation': 'Domenichino (Domenico Zampieri)',\n 'Thaw Collection': 'Giovanni Battista Camuccini',\n 'Eugene V. Thaw': 'Giovanni Battista Camuccini',\n 'Charles and Jessie Price': \"Stefano da Verona (Stefano di Giovanni d'Arbosio di Francia)\",\n 'Stephen Mazoh': 'Francesco Trevisani',\n 'Brian J. Brille': 'Filippo Tarchiani',\n 'Marco Voena': 'Orazio Borgianni',\n 'Luigi Koelliker': 'Orazio Borgianni',\n 'Anne Cox Chambers': 'Michele Gordigiani',\n 'Acquisitions Fund': 'Perino del Vaga (Pietro Buonaccorsi)',\n 'Denise and Andrew Saul': 'Perino del Vaga (Pietro Buonaccorsi)',\n 'Fern and George Wachter': 'Perino del Vaga (Pietro Buonaccorsi)',\n 'Hester Diamond': 'Perino del Vaga (Pietro Buonaccorsi)',\n 'Mr. and Mrs. J. Tomilson Hill': 'Perino del Vaga (Pietro Buonaccorsi)',\n 'Anna Mont': 'Carlo Francesco Nuvolone',\n 'University Place Foundation': 'Corrado Giaquinto',\n 'Damon Mezzacappa': 'Ottavio Leoni (Il Padovano)',\n 'Álvaro Saieh Bendeck': \"Stefano da Verona (Stefano di Giovanni d'Arbosio di Francia)\",\n 'Jean-Luc Baroni': 'Giovanni Battista Gaulli (Il Baciccio)',\n 'Helen Hay Whitney': 'Giovanni Benedetto Castiglione (Il Grechetto)',\n 'Harry Payne Bingham Jr.': 'Giovanni Benedetto Castiglione (Il Grechetto)',\n 'Patrick Matthiesen and The Matthiesen Gallery': 'Ludovico Mazzolino',\n 'Diane Burke': 'Guido Cagnacci',\n 'Michel David-Weill': 'Guido Cagnacci',\n 'Dinko Podrug': 'Antoniazzo Romano (Antonio di Benedetto Aquilio)',\n 'Nena Ilic-Podrug': 'Antoniazzo Romano (Antonio di Benedetto Aquilio)',\n 'Iva Podrug': 'Antoniazzo Romano (Antonio di Benedetto Aquilio)',\n 'Claire and Giovanni Sarti': 'Bartolomeo Cavarozzi',\n 'Mr. and Mrs. Frederick W. Beinecke': 'Carlo Dolci',\n 'Mr. and Mrs. Richard L. Chilton Jr.': 'Carlo Dolci',\n 'Ronald S. Lauder': \"Francesco Salviati (Francesco de' Rossi)\",\n 'in memory of George T. Delacorte Jr.': 'Carlo Dolci',\n 'The Morris': 'Giovanni Battista Caracciolo',\n 'Alma Schapiro Fund': 'Giovanni Battista Caracciolo',\n 'Everett Fahy': 'Placido Costanzi',\n 'The Morris and Alma Schapiro Fund': \"Francesco Salviati (Francesco de' Rossi)\",\n 'Alejandro Santo Domingo': \"Francesco Salviati (Francesco de' Rossi)\",\n 'David and Julie Tobey': \"Francesco Salviati (Francesco de' Rossi)\",\n 'Brownstein Family Foundation': \"Francesco Salviati (Francesco de' Rossi)\",\n 'Beatrice Stern': \"Francesco Salviati (Francesco de' Rossi)\",\n 'Maurizio and Dominique Canesso': 'Girolamo da Carpi (Girolamo Sellari)',\n 'Philippe de Montebello Fund': \"Stefano da Verona (Stefano di Giovanni d'Arbosio di Francia)\",\n 'Mrs. William M. Haupt': \"Stefano da Verona (Stefano di Giovanni d'Arbosio di Francia)\",\n 'Lillian S. Timken': \"Stefano da Verona (Stefano di Giovanni d'Arbosio di Francia)\",\n 'Forsyth Wickes': \"Stefano da Verona (Stefano di Giovanni d'Arbosio di Francia)\",\n 'the Eugene V. and Clare E. Thaw Charitable Trust': 'Canaletto (Giovanni Antonio Canal)',\n 'Errol M. Rudman': 'Orsola Maddalena Caccia',\n 'Alan M. May': 'Pier Francesco Mola'}"
     },
     "execution_count": 37,
     "metadata": {},
     "output_type": "execute_result"
    }
   ],
   "source": [
    "for key in art_dealers_dict:\n",
    "    art_dealers_dict[key]=list(art_dealers_dict[key])[-1]\n",
    "art_dealers_dict"
   ]
  },
  {
   "cell_type": "code",
   "execution_count": 38,
   "id": "e989511d",
   "metadata": {},
   "outputs": [
    {
     "data": {
      "text/plain": "                                                                                                    0\nRudolph and Lentilhon G. von Fluegge Foundation...                                     Jacopo Amigoni\nRogers Fund                                                                 Giovanni Battista Tiepolo\nHelen O. Brice                                                                       Giacomo Andreoli\nLucy G. Moses                                                                       Taddeo di Bartolo\nBenjamin Altman                                                             Titian (Tiziano Vecellio)\n...                                                                                               ...\nLillian S. Timken                                   Stefano da Verona (Stefano di Giovanni d'Arbos...\nForsyth Wickes                                      Stefano da Verona (Stefano di Giovanni d'Arbos...\nthe Eugene V. and Clare E. Thaw Charitable Trust                   Canaletto (Giovanni Antonio Canal)\nErrol M. Rudman                                                               Orsola Maddalena Caccia\nAlan M. May                                                                       Pier Francesco Mola\n\n[234 rows x 1 columns]",
      "text/html": "<div>\n<style scoped>\n    .dataframe tbody tr th:only-of-type {\n        vertical-align: middle;\n    }\n\n    .dataframe tbody tr th {\n        vertical-align: top;\n    }\n\n    .dataframe thead th {\n        text-align: right;\n    }\n</style>\n<table border=\"1\" class=\"dataframe\">\n  <thead>\n    <tr style=\"text-align: right;\">\n      <th></th>\n      <th>0</th>\n    </tr>\n  </thead>\n  <tbody>\n    <tr>\n      <th>Rudolph and Lentilhon G. von Fluegge Foundation Inc.</th>\n      <td>Jacopo Amigoni</td>\n    </tr>\n    <tr>\n      <th>Rogers Fund</th>\n      <td>Giovanni Battista Tiepolo</td>\n    </tr>\n    <tr>\n      <th>Helen O. Brice</th>\n      <td>Giacomo Andreoli</td>\n    </tr>\n    <tr>\n      <th>Lucy G. Moses</th>\n      <td>Taddeo di Bartolo</td>\n    </tr>\n    <tr>\n      <th>Benjamin Altman</th>\n      <td>Titian (Tiziano Vecellio)</td>\n    </tr>\n    <tr>\n      <th>...</th>\n      <td>...</td>\n    </tr>\n    <tr>\n      <th>Lillian S. Timken</th>\n      <td>Stefano da Verona (Stefano di Giovanni d'Arbos...</td>\n    </tr>\n    <tr>\n      <th>Forsyth Wickes</th>\n      <td>Stefano da Verona (Stefano di Giovanni d'Arbos...</td>\n    </tr>\n    <tr>\n      <th>the Eugene V. and Clare E. Thaw Charitable Trust</th>\n      <td>Canaletto (Giovanni Antonio Canal)</td>\n    </tr>\n    <tr>\n      <th>Errol M. Rudman</th>\n      <td>Orsola Maddalena Caccia</td>\n    </tr>\n    <tr>\n      <th>Alan M. May</th>\n      <td>Pier Francesco Mola</td>\n    </tr>\n  </tbody>\n</table>\n<p>234 rows × 1 columns</p>\n</div>"
     },
     "execution_count": 38,
     "metadata": {},
     "output_type": "execute_result"
    }
   ],
   "source": [
    "artdealers_df=pd.DataFrame([art_dealers_dict])\n",
    "artdealers_df=artdealers_df.T\n",
    "artdealers_df"
   ]
  },
  {
   "cell_type": "code",
   "execution_count": 39,
   "id": "e56cd232",
   "metadata": {},
   "outputs": [],
   "source": [
    "artdealers_df=pd.DataFrame(art_dealers_dict, index=['Artist',])"
   ]
  },
  {
   "cell_type": "code",
   "execution_count": 40,
   "id": "336fe3cc",
   "metadata": {},
   "outputs": [
    {
     "data": {
      "text/plain": "Artist    Giovanni Battista Tiepolo\nName: Rogers Fund, dtype: object"
     },
     "execution_count": 40,
     "metadata": {},
     "output_type": "execute_result"
    }
   ],
   "source": [
    "artdealers_df[\"Rogers Fund\"]"
   ]
  },
  {
   "cell_type": "code",
   "execution_count": 42,
   "id": "e1530a45",
   "metadata": {},
   "outputs": [
    {
     "data": {
      "text/plain": "['Rogers Fund',\n 'Gwynne Andrews Fund',\n 'George Blumenthal',\n 'Michael Friedsam',\n 'Theodore M. Davis',\n 'The Jules Bache Collection',\n 'The Jack and Belle Linsky Collection',\n 'J. Pierpont Morgan',\n 'Mrs. Charles Wrightsman',\n 'Maitland F. Griggs',\n 'Grace Rainey Rogers',\n 'Benjamin Altman']"
     },
     "execution_count": 42,
     "metadata": {},
     "output_type": "execute_result"
    }
   ],
   "source": [
    "#metdealer=pd.read_csv(\"D:\\\\PycharmProjects\\\\infoviz\\\\assets\\\\dataForSite\\\\exportCsv\\\\metdealer.csv\")\n",
    "metdealer=pd.read_csv(\"E:\\\\GitHub\\\\infoviz\\\\assets\\\\dataForSite\\\\exportCsv\\\\metdealer.csv\")\n",
    "\n",
    "metdealer=metdealer[~metdealer['dealer'].isnull()]\n",
    "metdealer_freq=metdealer.query('freq > 11')\n",
    "metdealer_freq=metdealer_freq.sort_values('freq',ascending=False)\n",
    "#for index, row in metdealer.iterrows():\n",
    "metdealer_freqlst=metdealer_freq['dealer'].tolist()\n",
    "metdealer_freqlst"
   ]
  },
  {
   "cell_type": "code",
   "execution_count": 43,
   "id": "56863699",
   "metadata": {},
   "outputs": [
    {
     "data": {
      "text/plain": "['Giovanni Battista Tiepolo',\n 'Lorenzo Monaco (Piero di Giovanni)',\n 'Bernardo Daddi',\n 'Giovanni di Paolo (Giovanni di Paolo di Grazia)',\n 'Martino di Bartolommeo di Biagio',\n 'Titian (Tiziano Vecellio)',\n 'Francesco Guardi',\n 'Garofalo (Benvenuto Tisi da Garofalo)',\n 'Canaletto (Giovanni Antonio Canal)',\n 'Simone Martini',\n 'Giovanni Battista Tiepolo',\n 'Titian (Tiziano Vecellio)']"
     },
     "execution_count": 43,
     "metadata": {},
     "output_type": "execute_result"
    }
   ],
   "source": [
    "favartist_lst=[]\n",
    "for elem in metdealer_freqlst:\n",
    "    templst=artdealers_df[elem].to_list()\n",
    "    favartist_lst.append(templst[0])\n",
    "favartist_lst"
   ]
  },
  {
   "cell_type": "code",
   "execution_count": 44,
   "id": "800e5fec",
   "metadata": {},
   "outputs": [
    {
     "name": "stderr",
     "output_type": "stream",
     "text": [
      "[nltk_data] Downloading package maxent_ne_chunker to\n",
      "[nltk_data]     C:\\Users\\aligh\\AppData\\Roaming\\nltk_data...\n",
      "[nltk_data]   Package maxent_ne_chunker is already up-to-date!\n",
      "[nltk_data] Downloading package words to\n",
      "[nltk_data]     C:\\Users\\aligh\\AppData\\Roaming\\nltk_data...\n",
      "[nltk_data]   Package words is already up-to-date!\n",
      "[nltk_data] Downloading package treebank to\n",
      "[nltk_data]     C:\\Users\\aligh\\AppData\\Roaming\\nltk_data...\n",
      "[nltk_data]   Package treebank is already up-to-date!\n",
      "[nltk_data] Downloading package maxent_treebank_pos_tagger to\n",
      "[nltk_data]     C:\\Users\\aligh\\AppData\\Roaming\\nltk_data...\n",
      "[nltk_data]   Package maxent_treebank_pos_tagger is already up-to-\n",
      "[nltk_data]       date!\n",
      "[nltk_data] Downloading package punkt to\n",
      "[nltk_data]     C:\\Users\\aligh\\AppData\\Roaming\\nltk_data...\n",
      "[nltk_data]   Unzipping tokenizers\\punkt.zip.\n",
      "[nltk_data] Downloading package averaged_perceptron_tagger to\n",
      "[nltk_data]     C:\\Users\\aligh\\AppData\\Roaming\\nltk_data...\n",
      "[nltk_data]   Package averaged_perceptron_tagger is already up-to-\n",
      "[nltk_data]       date!\n"
     ]
    },
    {
     "data": {
      "text/plain": "True"
     },
     "execution_count": 44,
     "metadata": {},
     "output_type": "execute_result"
    }
   ],
   "source": [
    "import nltk\n",
    "import spacy\n",
    " \n",
    "# essential entity models downloads\n",
    "nltk.downloader.download('maxent_ne_chunker')\n",
    "nltk.downloader.download('words')\n",
    "nltk.downloader.download('treebank')\n",
    "nltk.downloader.download('maxent_treebank_pos_tagger')\n",
    "nltk.downloader.download('punkt')\n",
    "nltk.download('averaged_perceptron_tagger')"
   ]
  },
  {
   "cell_type": "code",
   "execution_count": 46,
   "id": "eb30576a",
   "metadata": {},
   "outputs": [
    {
     "name": "stdout",
     "output_type": "stream",
     "text": [
      "The cities in text : \n",
      "['Venice', 'Madrid']\n"
     ]
    }
   ],
   "source": [
    "import locationtagger\n",
    "\n",
    "# initializing sample text\n",
    "sample_text = \"Italian, Venice 1682 1752 Madrid\"\n",
    " \n",
    "# extracting entities.\n",
    "place_entity = locationtagger.find_locations(text = sample_text)\n",
    " \n",
    "# # getting all countries\n",
    "# print(\"The countries in text : \")\n",
    "# print(place_entity.countries)\n",
    " \n",
    "# # getting all states\n",
    "# print(\"The states in text : \")\n",
    "# print(place_entity.regions)\n",
    " \n",
    "# getting all cities\n",
    "print(\"The cities in text : \")\n",
    "print(place_entity.cities)"
   ]
  },
  {
   "cell_type": "code",
   "execution_count": 47,
   "id": "c7a51a84",
   "metadata": {},
   "outputs": [
    {
     "data": {
      "text/plain": "'Italian, Venice 1682–1752 Madrid'"
     },
     "execution_count": 47,
     "metadata": {},
     "output_type": "execute_result"
    }
   ],
   "source": [
    "agents_df['Artist Display Bio'][0]"
   ]
  },
  {
   "cell_type": "code",
   "execution_count": 48,
   "id": "3bbd87db",
   "metadata": {},
   "outputs": [
    {
     "data": {
      "text/plain": "'Italian, Venice 1696–1770 Madrid'"
     },
     "execution_count": 48,
     "metadata": {},
     "output_type": "execute_result"
    }
   ],
   "source": [
    "agents_df.loc[agents_df['Artist Display Name'] == 'Giovanni Battista Tiepolo', 'Artist Display Bio'].iloc[0]"
   ]
  },
  {
   "cell_type": "code",
   "execution_count": 49,
   "id": "ab5def8e",
   "metadata": {},
   "outputs": [
    {
     "data": {
      "text/plain": "['Italian, Venice 1696–1770 Madrid',\n 'Italian, Florence (?) ca. 1370–1425 Florence (?)',\n 'Italian, Florence (?) ca. 1290–1348 Florence',\n 'Italian, Siena 1398–1482 Siena',\n 'Italian, Sienese, active by 1389–died 1434/35',\n 'Italian, Pieve di Cadore ca. 1485/90?–1576 Venice',\n 'Italian, Venice 1712–1793 Venice',\n 'Italian, Ferrara 1481–1559 Ferrara',\n 'Italian, Venice 1697–1768 Venice',\n 'Italian, Siena, active by 1315–died 1344 Avignon',\n 'Italian, Venice 1696–1770 Madrid',\n 'Italian, Pieve di Cadore ca. 1485/90?–1576 Venice']"
     },
     "execution_count": 49,
     "metadata": {},
     "output_type": "execute_result"
    }
   ],
   "source": [
    "favartist_loclist=[]\n",
    "for elem in favartist_lst:\n",
    "    favartist_loclist.append(agents_df.loc[agents_df['Artist Display Name'] == elem, 'Artist Display Bio'].iloc[0])\n",
    "\n",
    "favartist_loclist"
   ]
  },
  {
   "cell_type": "markdown",
   "source": [
    "ghg"
   ],
   "metadata": {
    "collapsed": false
   }
  },
  {
   "cell_type": "code",
   "execution_count": 62,
   "outputs": [
    {
     "data": {
      "text/plain": "{'Giovanni Battista Tiepolo': 'Italian, Venice 1696–1770 Madrid',\n 'Lorenzo Monaco (Piero di Giovanni)': 'Italian, Florence (?) ca. 1370–1425 Florence (?)',\n 'Bernardo Daddi': 'Italian, Florence (?) ca. 1290–1348 Florence',\n 'Giovanni di Paolo (Giovanni di Paolo di Grazia)': 'Italian, Siena 1398–1482 Siena',\n 'Martino di Bartolommeo di Biagio': 'Italian, Sienese, active by 1389–died 1434/35',\n 'Titian (Tiziano Vecellio)': 'Italian, Pieve di Cadore ca. 1485/90?–1576 Venice',\n 'Francesco Guardi': 'Italian, Venice 1712–1793 Venice',\n 'Garofalo (Benvenuto Tisi da Garofalo)': 'Italian, Ferrara 1481–1559 Ferrara',\n 'Canaletto (Giovanni Antonio Canal)': 'Italian, Venice 1697–1768 Venice',\n 'Simone Martini': 'Italian, Siena, active by 1315–died 1344 Avignon'}"
     },
     "execution_count": 62,
     "metadata": {},
     "output_type": "execute_result"
    }
   ],
   "source": [
    "dict_favartist_loc=dict()\n",
    "\n",
    "def make_dict(keys, values):\n",
    "    return dict(zip(keys, values))\n",
    "\n",
    "dict_favartist_loc=make_dict(favartist_lst, favartist_loclist)\n",
    "dict_favartist_loc"
   ],
   "metadata": {
    "collapsed": false
   }
  },
  {
   "cell_type": "code",
   "execution_count": 65,
   "outputs": [
    {
     "name": "stdout",
     "output_type": "stream",
     "text": [
      "['Venice', 'Florence', 'Florence', '0', '0', 'Venice', 'Venice', '0', 'Venice', 'Avignon', 'Venice', 'Venice']\n"
     ]
    }
   ],
   "source": [
    "favartist_cities=[]\n",
    "for elem in favartist_loclist:\n",
    "\n",
    "    # extracting entities.\n",
    "    place_entity = locationtagger.find_locations(text = elem)\n",
    "\n",
    "    if len(place_entity.cities) == 0:\n",
    "        favartist_cities.append('0')\n",
    "    else:\n",
    "        favartist_cities.append(place_entity.cities[0])\n",
    "\n",
    "# # getting all countries\n",
    "# print(\"The countries in text : \")\n",
    "# print(place_entity.countries)\n",
    "\n",
    "# # getting all states\n",
    "# print(\"The states in text : \")\n",
    "# print(place_entity.regions)\n",
    "\n",
    "# getting all cities\n",
    "print(favartist_cities)"
   ],
   "metadata": {
    "collapsed": false
   }
  },
  {
   "cell_type": "code",
   "execution_count": 71,
   "outputs": [
    {
     "name": "stdout",
     "output_type": "stream",
     "text": [
      "{'Rogers Fund': {'Giovanni Battista Tiepolo': 'Italian, Venice 1696–1770 Madrid'}, 'Gwynne Andrews Fund': {'Lorenzo Monaco (Piero di Giovanni)': 'Italian, Florence (?) ca. 1370–1425 Florence (?)'}, 'George Blumenthal': {'Bernardo Daddi': 'Italian, Florence (?) ca. 1290–1348 Florence'}, 'Michael Friedsam': {'Giovanni di Paolo (Giovanni di Paolo di Grazia)': 'Italian, Siena 1398–1482 Siena'}, 'Theodore M. Davis': {'Martino di Bartolommeo di Biagio': 'Italian, Sienese, active by 1389–died 1434/35'}, 'The Jules Bache Collection': {'Titian (Tiziano Vecellio)': 'Italian, Pieve di Cadore ca. 1485/90?–1576 Venice'}, 'The Jack and Belle Linsky Collection': {'Francesco Guardi': 'Italian, Venice 1712–1793 Venice'}, 'J. Pierpont Morgan': {'Garofalo (Benvenuto Tisi da Garofalo)': 'Italian, Ferrara 1481–1559 Ferrara'}, 'Mrs. Charles Wrightsman': {'Canaletto (Giovanni Antonio Canal)': 'Italian, Venice 1697–1768 Venice'}, 'Maitland F. Griggs': {'Simone Martini': 'Italian, Siena, active by 1315–died 1344 Avignon'}, 'Grace Rainey Rogers': {'Giovanni Battista Tiepolo': 'Italian, Venice 1696–1770 Madrid'}, 'Benjamin Altman': {'Titian (Tiziano Vecellio)': 'Italian, Pieve di Cadore ca. 1485/90?–1576 Venice'}}\n"
     ]
    }
   ],
   "source": [
    "# a = metdealer_freqlst\n",
    "# b = favartist_lst\n",
    "# c = favartist_loclist\n",
    "\n",
    "dict_fav_artists_for_metdealers = dict(map(lambda x, y, z : (x, {str(y): str(z)}), metdealer_freqlst, favartist_lst, favartist_loclist))\n",
    "\n",
    "print(dict_fav_artists_for_metdealers)"
   ],
   "metadata": {
    "collapsed": false
   }
  },
  {
   "cell_type": "code",
   "execution_count": 73,
   "outputs": [
    {
     "data": {
      "text/plain": "['Venice',\n 'Florence',\n 'Florence',\n 'Siena',\n 'Siena',\n 'Venice',\n 'Venice',\n 'Ferrara',\n 'Venice',\n 'Siena',\n 'Venice',\n 'Venice']"
     },
     "execution_count": 73,
     "metadata": {},
     "output_type": "execute_result"
    }
   ],
   "source": [
    "favartist_cities[3] = 'Siena'\n",
    "favartist_cities[4] = 'Siena'\n",
    "favartist_cities[7] = 'Ferrara'\n",
    "favartist_cities[9] = 'Siena'\n",
    "favartist_cities"
   ],
   "metadata": {
    "collapsed": false
   }
  },
  {
   "cell_type": "code",
   "execution_count": 74,
   "outputs": [
    {
     "name": "stdout",
     "output_type": "stream",
     "text": [
      "{'Rogers Fund': {'Giovanni Battista Tiepolo': 'Venice'}, 'Gwynne Andrews Fund': {'Lorenzo Monaco (Piero di Giovanni)': 'Florence'}, 'George Blumenthal': {'Bernardo Daddi': 'Florence'}, 'Michael Friedsam': {'Giovanni di Paolo (Giovanni di Paolo di Grazia)': 'Siena'}, 'Theodore M. Davis': {'Martino di Bartolommeo di Biagio': 'Siena'}, 'The Jules Bache Collection': {'Titian (Tiziano Vecellio)': 'Venice'}, 'The Jack and Belle Linsky Collection': {'Francesco Guardi': 'Venice'}, 'J. Pierpont Morgan': {'Garofalo (Benvenuto Tisi da Garofalo)': 'Ferrara'}, 'Mrs. Charles Wrightsman': {'Canaletto (Giovanni Antonio Canal)': 'Venice'}, 'Maitland F. Griggs': {'Simone Martini': 'Siena'}, 'Grace Rainey Rogers': {'Giovanni Battista Tiepolo': 'Venice'}, 'Benjamin Altman': {'Titian (Tiziano Vecellio)': 'Venice'}}\n"
     ]
    }
   ],
   "source": [
    "dict_fav_artists_for_metdealers = dict(map(lambda x, y, z : (x, {str(y): str(z)}), metdealer_freqlst, favartist_lst, favartist_cities))\n",
    "\n",
    "print(dict_fav_artists_for_metdealers)"
   ],
   "metadata": {
    "collapsed": false
   }
  },
  {
   "cell_type": "code",
   "execution_count": 116,
   "outputs": [],
   "source": [
    "# importing geopy library\n",
    "from geopy.geocoders import Nominatim\n",
    "\n",
    "# calling the Nominatim tool\n",
    "loc = Nominatim(user_agent=\"GetLoc\")\n",
    "lat=[]\n",
    "long=[]\n",
    "# entering the location name\n",
    "for elem in favartist_cities:\n",
    "    getLoc = loc.geocode(elem)\n",
    "    lat.append(getLoc.latitude)\n",
    "    long.append(getLoc.longitude)"
   ],
   "metadata": {
    "collapsed": false
   }
  },
  {
   "cell_type": "code",
   "execution_count": 117,
   "outputs": [],
   "source": [
    "cord_list=list(zip(lat, long))"
   ],
   "metadata": {
    "collapsed": false
   }
  },
  {
   "cell_type": "code",
   "execution_count": 118,
   "outputs": [],
   "source": [
    "# Map = folium.Map(location = [45.43,12.33], zoom_start=1)\n",
    "# for point in cord_list:\n",
    "#     folium.CircleMarker(location=point, color=\"red\", radius=5, weight=5).add_to(Map)\n",
    "# Map"
   ],
   "metadata": {
    "collapsed": false
   }
  },
  {
   "cell_type": "code",
   "execution_count": 119,
   "outputs": [],
   "source": [
    "df_cord = pd.DataFrame(columns = [\"Lat\", \"Long\"])\n",
    "df_cord[\"Lat\"]=lat\n",
    "df_cord[\"Long\"]=long"
   ],
   "metadata": {
    "collapsed": false
   }
  },
  {
   "cell_type": "code",
   "execution_count": 120,
   "outputs": [
    {
     "data": {
      "text/plain": "<folium.folium.Map at 0x25abc68fc70>",
      "text/html": "<div style=\"width:100%;\"><div style=\"position:relative;width:100%;height:0;padding-bottom:60%;\"><span style=\"color:#565656\">Make this Notebook Trusted to load map: File -> Trust Notebook</span><iframe srcdoc=\"&lt;!DOCTYPE html&gt;\n&lt;html&gt;\n&lt;head&gt;\n    \n    &lt;meta http-equiv=&quot;content-type&quot; content=&quot;text/html; charset=UTF-8&quot; /&gt;\n    \n        &lt;script&gt;\n            L_NO_TOUCH = false;\n            L_DISABLE_3D = false;\n        &lt;/script&gt;\n    \n    &lt;style&gt;html, body {width: 100%;height: 100%;margin: 0;padding: 0;}&lt;/style&gt;\n    &lt;style&gt;#map {position:absolute;top:0;bottom:0;right:0;left:0;}&lt;/style&gt;\n    &lt;script src=&quot;https://cdn.jsdelivr.net/npm/leaflet@1.9.3/dist/leaflet.js&quot;&gt;&lt;/script&gt;\n    &lt;script src=&quot;https://code.jquery.com/jquery-1.12.4.min.js&quot;&gt;&lt;/script&gt;\n    &lt;script src=&quot;https://cdn.jsdelivr.net/npm/bootstrap@5.2.2/dist/js/bootstrap.bundle.min.js&quot;&gt;&lt;/script&gt;\n    &lt;script src=&quot;https://cdnjs.cloudflare.com/ajax/libs/Leaflet.awesome-markers/2.0.2/leaflet.awesome-markers.js&quot;&gt;&lt;/script&gt;\n    &lt;link rel=&quot;stylesheet&quot; href=&quot;https://cdn.jsdelivr.net/npm/leaflet@1.9.3/dist/leaflet.css&quot;/&gt;\n    &lt;link rel=&quot;stylesheet&quot; href=&quot;https://cdn.jsdelivr.net/npm/bootstrap@5.2.2/dist/css/bootstrap.min.css&quot;/&gt;\n    &lt;link rel=&quot;stylesheet&quot; href=&quot;https://netdna.bootstrapcdn.com/bootstrap/3.0.0/css/bootstrap.min.css&quot;/&gt;\n    &lt;link rel=&quot;stylesheet&quot; href=&quot;https://cdn.jsdelivr.net/npm/@fortawesome/fontawesome-free@6.2.0/css/all.min.css&quot;/&gt;\n    &lt;link rel=&quot;stylesheet&quot; href=&quot;https://cdnjs.cloudflare.com/ajax/libs/Leaflet.awesome-markers/2.0.2/leaflet.awesome-markers.css&quot;/&gt;\n    &lt;link rel=&quot;stylesheet&quot; href=&quot;https://cdn.jsdelivr.net/gh/python-visualization/folium/folium/templates/leaflet.awesome.rotate.min.css&quot;/&gt;\n    \n            &lt;meta name=&quot;viewport&quot; content=&quot;width=device-width,\n                initial-scale=1.0, maximum-scale=1.0, user-scalable=no&quot; /&gt;\n            &lt;style&gt;\n                #map_022d1b1829859332dd3ed065075b0222 {\n                    position: relative;\n                    width: 100.0%;\n                    height: 100.0%;\n                    left: 0.0%;\n                    top: 0.0%;\n                }\n                .leaflet-container { font-size: 1rem; }\n            &lt;/style&gt;\n        \n&lt;/head&gt;\n&lt;body&gt;\n    \n    \n            &lt;div class=&quot;folium-map&quot; id=&quot;map_022d1b1829859332dd3ed065075b0222&quot; &gt;&lt;/div&gt;\n        \n&lt;/body&gt;\n&lt;script&gt;\n    \n    \n            var map_022d1b1829859332dd3ed065075b0222 = L.map(\n                &quot;map_022d1b1829859332dd3ed065075b0222&quot;,\n                {\n                    center: [44.53594397083334, 11.895681056638127],\n                    crs: L.CRS.EPSG3857,\n                    zoom: 10,\n                    zoomControl: true,\n                    preferCanvas: false,\n                }\n            );\n\n            \n\n        \n    \n            var tile_layer_dbb825596df0a1da2277f8ec378b1698 = L.tileLayer(\n                &quot;https://{s}.tile.openstreetmap.org/{z}/{x}/{y}.png&quot;,\n                {&quot;attribution&quot;: &quot;Data by \\u0026copy; \\u003ca target=\\&quot;_blank\\&quot; href=\\&quot;http://openstreetmap.org\\&quot;\\u003eOpenStreetMap\\u003c/a\\u003e, under \\u003ca target=\\&quot;_blank\\&quot; href=\\&quot;http://www.openstreetmap.org/copyright\\&quot;\\u003eODbL\\u003c/a\\u003e.&quot;, &quot;detectRetina&quot;: false, &quot;maxNativeZoom&quot;: 18, &quot;maxZoom&quot;: 18, &quot;minZoom&quot;: 0, &quot;noWrap&quot;: false, &quot;opacity&quot;: 1, &quot;subdomains&quot;: &quot;abc&quot;, &quot;tms&quot;: false}\n            ).addTo(map_022d1b1829859332dd3ed065075b0222);\n        \n    \n            var marker_bbee607034627c3af2466731485ab576 = L.marker(\n                [45.4371908, 12.3345898],\n                {}\n            ).addTo(map_022d1b1829859332dd3ed065075b0222);\n        \n    \n            var marker_a2ad7f41d10788a7219c99992d719814 = L.marker(\n                [43.7698712, 11.2555757],\n                {}\n            ).addTo(map_022d1b1829859332dd3ed065075b0222);\n        \n    \n            var marker_0aa91564d7b853be442ef4b733b18253 = L.marker(\n                [43.7698712, 11.2555757],\n                {}\n            ).addTo(map_022d1b1829859332dd3ed065075b0222);\n        \n    \n            var marker_77f64a4aa1c78881ac43a5fdc744e691 = L.marker(\n                [43.1672254, 11.467181161339118],\n                {}\n            ).addTo(map_022d1b1829859332dd3ed065075b0222);\n        \n    \n            var marker_d1687937a165a62b5516c3ec7c2ee36f = L.marker(\n                [43.1672254, 11.467181161339118],\n                {}\n            ).addTo(map_022d1b1829859332dd3ed065075b0222);\n        \n    \n            var marker_46bce38a0b2a78a4686e16815f72aa8f = L.marker(\n                [45.4371908, 12.3345898],\n                {}\n            ).addTo(map_022d1b1829859332dd3ed065075b0222);\n        \n    \n            var marker_1eae73d4f53114663707dc4de317728b = L.marker(\n                [45.4371908, 12.3345898],\n                {}\n            ).addTo(map_022d1b1829859332dd3ed065075b0222);\n        \n    \n            var marker_5275f8b9e27e5c8a25395be99a8b167d = L.marker(\n                [44.766764249999994, 11.827938995640167],\n                {}\n            ).addTo(map_022d1b1829859332dd3ed065075b0222);\n        \n    \n            var marker_24a5e7f232b9b2d871ec7049f053fb11 = L.marker(\n                [45.4371908, 12.3345898],\n                {}\n            ).addTo(map_022d1b1829859332dd3ed065075b0222);\n        \n    \n            var marker_e101b1a48aa0c2f72b7e944059bf2218 = L.marker(\n                [43.1672254, 11.467181161339118],\n                {}\n            ).addTo(map_022d1b1829859332dd3ed065075b0222);\n        \n    \n            var marker_fb611d463f7c98f97c6050327cc7b3db = L.marker(\n                [45.4371908, 12.3345898],\n                {}\n            ).addTo(map_022d1b1829859332dd3ed065075b0222);\n        \n    \n            var marker_9b74bd3d6bc58f33487578f5f1691bcf = L.marker(\n                [45.4371908, 12.3345898],\n                {}\n            ).addTo(map_022d1b1829859332dd3ed065075b0222);\n        \n    \n            map_022d1b1829859332dd3ed065075b0222.fitBounds(\n                [[43.1672254, 11.2555757], [45.4371908, 12.3345898]],\n                {}\n            );\n        \n&lt;/script&gt;\n&lt;/html&gt;\" style=\"position:absolute;width:100%;height:100%;left:0;top:0;border:none !important;\" allowfullscreen webkitallowfullscreen mozallowfullscreen></iframe></div></div>"
     },
     "execution_count": 120,
     "metadata": {},
     "output_type": "execute_result"
    }
   ],
   "source": [
    "m = folium.Map(df_cord[['Lat', 'Long']].mean().values.tolist())\n",
    "\n",
    "for lat, lon in zip(df_cord['Lat'], df_cord['Long']):\n",
    "    folium.Marker([lat, lon]).add_to(m)\n",
    "\n",
    "sw = df_cord[['Lat', 'Long']].min().values.tolist()\n",
    "ne = df_cord[['Lat', 'Long']].max().values.tolist()\n",
    "\n",
    "m.fit_bounds([sw, ne])\n",
    "m"
   ],
   "metadata": {
    "collapsed": false
   }
  },
  {
   "cell_type": "code",
   "execution_count": null,
   "outputs": [],
   "source": [],
   "metadata": {
    "collapsed": false
   }
  },
  {
   "cell_type": "code",
   "execution_count": 75,
   "outputs": [],
   "source": [
    "# favartist_cities=[]\n",
    "# for elem in favartist_loclist:\n",
    "#\n",
    "#     # extracting entities.\n",
    "#     place_entity = locationtagger.find_locations(text = elem)\n",
    "#\n",
    "#     if len(place_entity.cities) == 0:\n",
    "#         favartist_cities.append('0')\n",
    "#     else:\n",
    "#         favartist_cities.append(place_entity.cities[0])"
   ],
   "metadata": {
    "collapsed": false
   }
  },
  {
   "cell_type": "code",
   "execution_count": 54,
   "outputs": [
    {
     "name": "stdout",
     "output_type": "stream",
     "text": [
      "The cities in text : \n",
      "['Venice', 'Madrid']\n"
     ]
    }
   ],
   "source": [
    "sample_text = \"Italian, Venice 1682 1752 Madrid\"\n",
    "\n",
    "# extracting entities.\n",
    "place_entity1 = locationtagger.find_locations(text = sample_text)\n",
    "\n",
    "# # getting all countries\n",
    "# print(\"The countries in text : \")\n",
    "# print(place_entity.countries)\n",
    "\n",
    "# # getting all states\n",
    "# print(\"The states in text : \")\n",
    "# print(place_entity.regions)\n",
    "\n",
    "# getting all cities\n",
    "print(\"The cities in text : \")\n",
    "print(place_entity1.cities)"
   ],
   "metadata": {
    "collapsed": false
   }
  },
  {
   "cell_type": "code",
   "execution_count": 57,
   "outputs": [
    {
     "data": {
      "text/plain": "'Venice'"
     },
     "execution_count": 57,
     "metadata": {},
     "output_type": "execute_result"
    }
   ],
   "source": [
    "place_entity1.cities[0]"
   ],
   "metadata": {
    "collapsed": false
   }
  },
  {
   "cell_type": "code",
   "execution_count": null,
   "id": "22405807",
   "metadata": {},
   "outputs": [],
   "source": [
    "# artdealers_df=pd.DataFrame([art_dealers_dict])\n",
    "# artdealers_df=artdealers_df.T\n",
    "# artdealers_df=artdealers_df.sort_values(0, ascending=False)\n",
    "# artdealers_df.head()"
   ]
  },
  {
   "cell_type": "markdown",
   "id": "9b1fb708",
   "metadata": {},
   "source": [
    "\n",
    " \n",
    " "
   ]
  },
  {
   "attachments": {},
   "cell_type": "markdown",
   "id": "bb5303d2",
   "metadata": {},
   "source": [
    "### Question 1 - What are the most common SURRENDERs that connect a Artist to the MET?"
   ]
  },
  {
   "cell_type": "code",
   "execution_count": 67,
   "id": "a7ca3a77",
   "metadata": {},
   "outputs": [],
   "source": [
    "# q1_sur_rec = df_sur_rec_final.R.value_counts(sort=False)"
   ]
  },
  {
   "cell_type": "code",
   "execution_count": null,
   "id": "ab400f19",
   "metadata": {},
   "outputs": [],
   "source": []
  },
  {
   "cell_type": "code",
   "execution_count": null,
   "id": "1efab9d4",
   "metadata": {},
   "outputs": [],
   "source": [
    "# q1_sur_rec.plot.bar(grid=True)"
   ]
  },
  {
   "cell_type": "code",
   "execution_count": null,
   "id": "65bf7fbc",
   "metadata": {},
   "outputs": [],
   "source": [
    "#q1_sur_rec.info()"
   ]
  },
  {
   "cell_type": "code",
   "execution_count": 70,
   "id": "93eea9aa",
   "metadata": {},
   "outputs": [],
   "source": [
    "# q2_sur_rec = df_sur_rec_final.R.value_counts(sort=True)"
   ]
  },
  {
   "cell_type": "code",
   "execution_count": null,
   "id": "1682a421",
   "metadata": {},
   "outputs": [],
   "source": [
    "# q2_sur_rec.plot.bar(grid=True)"
   ]
  },
  {
   "cell_type": "code",
   "execution_count": null,
   "id": "3199fbd5",
   "metadata": {},
   "outputs": [],
   "source": [
    "# q2_sur_rec"
   ]
  },
  {
   "cell_type": "code",
   "execution_count": null,
   "id": "4165c94c",
   "metadata": {},
   "outputs": [],
   "source": []
  },
  {
   "attachments": {},
   "cell_type": "markdown",
   "id": "cd62cd45",
   "metadata": {},
   "source": [
    "# TASK 3\n",
    "\n",
    "### Question 2 - Which(collectors or surrendors) of the are more frequents in connecting artworks(paintings) to the MET?  \n",
    "    To answer to this question we can use a dotmap.\n",
    "    A dotmap is a scatter plot which is put on a map to represent a geographic data distribution.\n",
    "    And then by looking at the different clusters of the points on the map we can get the answer."
   ]
  },
  {
   "cell_type": "markdown",
   "id": "7349cd12",
   "metadata": {},
   "source": [
    "Let's load our map "
   ]
  },
  {
   "cell_type": "code",
   "execution_count": null,
   "id": "d34b0fb3",
   "metadata": {},
   "outputs": [],
   "source": []
  },
  {
   "attachments": {},
   "cell_type": "markdown",
   "id": "1752e556",
   "metadata": {},
   "source": [
    "### Question 3 - Which AGENT are the best pick up points for PAINTINGS trips?"
   ]
  },
  {
   "cell_type": "code",
   "execution_count": null,
   "id": "8c66232d",
   "metadata": {},
   "outputs": [],
   "source": []
  },
  {
   "cell_type": "code",
   "execution_count": null,
   "id": "9760d3c7",
   "metadata": {},
   "outputs": [],
   "source": []
  },
  {
   "cell_type": "markdown",
   "source": [
    "## TASK 4\n",
    "### Question 4 - Which \"Last TRansfer\" type are the most common on reaching to MET?  which a specific Agent Transfer?"
   ],
   "metadata": {
    "collapsed": false
   }
  },
  {
   "cell_type": "code",
   "execution_count": null,
   "metadata": {},
   "outputs": [],
   "source": []
  },
  {
   "cell_type": "code",
   "execution_count": null,
   "metadata": {},
   "outputs": [],
   "source": []
  },
  {
   "cell_type": "markdown",
   "metadata": {},
   "source": [
    "### Question 5 - What are the most common start and end points on Purchase?"
   ]
  },
  {
   "cell_type": "code",
   "execution_count": null,
   "metadata": {},
   "outputs": [],
   "source": []
  },
  {
   "cell_type": "code",
   "execution_count": null,
   "metadata": {},
   "outputs": [],
   "source": []
  },
  {
   "cell_type": "code",
   "execution_count": null,
   "metadata": {},
   "outputs": [],
   "source": []
  },
  {
   "cell_type": "code",
   "execution_count": null,
   "metadata": {},
   "outputs": [],
   "source": []
  }
 ],
 "metadata": {
  "kernelspec": {
   "display_name": "datavenv_py3109",
   "language": "python",
   "name": "python3"
  },
  "language_info": {
   "codemirror_mode": {
    "name": "ipython",
    "version": 3
   },
   "file_extension": ".py",
   "mimetype": "text/x-python",
   "name": "python",
   "nbconvert_exporter": "python",
   "pygments_lexer": "ipython3",
   "version": "3.10.9 (tags/v3.10.9:1dd9be6, Dec  6 2022, 20:01:21) [MSC v.1934 64 bit (AMD64)]"
  },
  "vscode": {
   "interpreter": {
    "hash": "3f90f4df11ceee20a8c309ad2f5f71f75638737ea17296c430bff009848b0216"
   }
  }
 },
 "nbformat": 4,
 "nbformat_minor": 5
}
